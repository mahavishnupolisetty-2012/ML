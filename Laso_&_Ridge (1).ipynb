{
 "cells": [
  {
   "cell_type": "code",
   "execution_count": 1,
   "id": "ebaed55c",
   "metadata": {
    "id": "ebaed55c",
    "outputId": "9b02a4f8-4928-44d3-8fa9-001f14e977bb"
   },
   "outputs": [
    {
     "data": {
      "image/png": "[encoded data removed]",
      "text/plain": [
       "<Figure size 576x432 with 1 Axes>"
      ]
     },
     "metadata": {
      "needs_background": "light"
     },
     "output_type": "display_data"
    }
   ],
   "source": [
    "import numpy as np\n",
    "import pandas as pd\n",
    "import random # used to create sythatic data. \n",
    "import matplotlib.pyplot as plt\n",
    "%matplotlib inline\n",
    "from matplotlib.pylab import rcParams\n",
    "# rcParams['figure.figsize'] = 12, 10\n",
    "\n",
    "#Define input array with angles from 60deg to 300deg converted to radians\n",
    "x = np.array([i*np.pi/180 for i in range(60,300,4)])\n",
    "np.random.seed(10)  #Setting seed for reproducibility\n",
    "y = np.sin(x) + np.random.normal(0,0.15,len(x)) \n",
    "# np.random.normal(0,0.15,len(x))to generate a normal data for random noice \n",
    "data = pd.DataFrame(np.column_stack([x,y]),columns=['x','y'])\n",
    "plt.figure(figsize=(8, 6))\n",
    "plt.plot(data['x'],data['y'],'.')\n",
    "plt.show()"
   ]
  },
  {
   "cell_type": "code",
   "execution_count": 2,
   "id": "f65b8459",
   "metadata": {},
   "outputs": [
    {
     "data": {
      "text/html": [
       "<div>\n",
       "<style scoped>\n",
       "    .dataframe tbody tr th:only-of-type {\n",
       "        vertical-align: middle;\n",
       "    }\n",
       "\n",
       "    .dataframe tbody tr th {\n",
       "        vertical-align: top;\n",
       "    }\n",
       "\n",
       "    .dataframe thead th {\n",
       "        text-align: right;\n",
       "    }\n",
       "</style>\n",
       "<table border=\"1\" class=\"dataframe\">\n",
       "  <thead>\n",
       "    <tr style=\"text-align: right;\">\n",
       "      <th></th>\n",
       "      <th>x</th>\n",
       "      <th>y</th>\n",
       "    </tr>\n",
       "  </thead>\n",
       "  <tbody>\n",
       "    <tr>\n",
       "      <th>0</th>\n",
       "      <td>1.047198</td>\n",
       "      <td>1.065763</td>\n",
       "    </tr>\n",
       "    <tr>\n",
       "      <th>1</th>\n",
       "      <td>1.117011</td>\n",
       "      <td>1.006086</td>\n",
       "    </tr>\n",
       "    <tr>\n",
       "      <th>2</th>\n",
       "      <td>1.186824</td>\n",
       "      <td>0.695374</td>\n",
       "    </tr>\n",
       "    <tr>\n",
       "      <th>3</th>\n",
       "      <td>1.256637</td>\n",
       "      <td>0.949799</td>\n",
       "    </tr>\n",
       "    <tr>\n",
       "      <th>4</th>\n",
       "      <td>1.326450</td>\n",
       "      <td>1.063496</td>\n",
       "    </tr>\n",
       "  </tbody>\n",
       "</table>\n",
       "</div>"
      ],
      "text/plain": [
       "          x         y\n",
       "0  1.047198  1.065763\n",
       "1  1.117011  1.006086\n",
       "2  1.186824  0.695374\n",
       "3  1.256637  0.949799\n",
       "4  1.326450  1.063496"
      ]
     },
     "execution_count": 2,
     "metadata": {},
     "output_type": "execute_result"
    }
   ],
   "source": [
    "data.head()"
   ]
  },
  {
   "cell_type": "markdown",
   "id": "123f716b",
   "metadata": {
    "id": "123f716b"
   },
   "source": [
    "## Basis Expansion"
   ]
  },
  {
   "cell_type": "code",
   "execution_count": 3,
   "id": "37294da7",
   "metadata": {
    "id": "37294da7",
    "outputId": "fe910f55-57a7-48bc-a8b0-3e987dcf7f6c"
   },
   "outputs": [
    {
     "data": {
      "text/html": [
       "<div>\n",
       "<style scoped>\n",
       "    .dataframe tbody tr th:only-of-type {\n",
       "        vertical-align: middle;\n",
       "    }\n",
       "\n",
       "    .dataframe tbody tr th {\n",
       "        vertical-align: top;\n",
       "    }\n",
       "\n",
       "    .dataframe thead th {\n",
       "        text-align: right;\n",
       "    }\n",
       "</style>\n",
       "<table border=\"1\" class=\"dataframe\">\n",
       "  <thead>\n",
       "    <tr style=\"text-align: right;\">\n",
       "      <th></th>\n",
       "      <th>x</th>\n",
       "      <th>y</th>\n",
       "      <th>x_2</th>\n",
       "      <th>x_3</th>\n",
       "      <th>x_4</th>\n",
       "      <th>x_5</th>\n",
       "      <th>x_6</th>\n",
       "      <th>x_7</th>\n",
       "      <th>x_8</th>\n",
       "      <th>x_9</th>\n",
       "      <th>x_10</th>\n",
       "      <th>x_11</th>\n",
       "      <th>x_12</th>\n",
       "      <th>x_13</th>\n",
       "      <th>x_14</th>\n",
       "      <th>x_15</th>\n",
       "    </tr>\n",
       "  </thead>\n",
       "  <tbody>\n",
       "    <tr>\n",
       "      <th>0</th>\n",
       "      <td>1.047198</td>\n",
       "      <td>1.065763</td>\n",
       "      <td>1.096623</td>\n",
       "      <td>1.148381</td>\n",
       "      <td>1.202581</td>\n",
       "      <td>1.259340</td>\n",
       "      <td>1.318778</td>\n",
       "      <td>1.381021</td>\n",
       "      <td>1.446202</td>\n",
       "      <td>1.514459</td>\n",
       "      <td>1.585938</td>\n",
       "      <td>1.660790</td>\n",
       "      <td>1.739176</td>\n",
       "      <td>1.821260</td>\n",
       "      <td>1.907219</td>\n",
       "      <td>1.997235</td>\n",
       "    </tr>\n",
       "    <tr>\n",
       "      <th>1</th>\n",
       "      <td>1.117011</td>\n",
       "      <td>1.006086</td>\n",
       "      <td>1.247713</td>\n",
       "      <td>1.393709</td>\n",
       "      <td>1.556788</td>\n",
       "      <td>1.738948</td>\n",
       "      <td>1.942424</td>\n",
       "      <td>2.169709</td>\n",
       "      <td>2.423588</td>\n",
       "      <td>2.707173</td>\n",
       "      <td>3.023942</td>\n",
       "      <td>3.377775</td>\n",
       "      <td>3.773011</td>\n",
       "      <td>4.214494</td>\n",
       "      <td>4.707635</td>\n",
       "      <td>5.258479</td>\n",
       "    </tr>\n",
       "    <tr>\n",
       "      <th>2</th>\n",
       "      <td>1.186824</td>\n",
       "      <td>0.695374</td>\n",
       "      <td>1.408551</td>\n",
       "      <td>1.671702</td>\n",
       "      <td>1.984016</td>\n",
       "      <td>2.354677</td>\n",
       "      <td>2.794587</td>\n",
       "      <td>3.316683</td>\n",
       "      <td>3.936319</td>\n",
       "      <td>4.671717</td>\n",
       "      <td>5.544505</td>\n",
       "      <td>6.580351</td>\n",
       "      <td>7.809718</td>\n",
       "      <td>9.268760</td>\n",
       "      <td>11.000386</td>\n",
       "      <td>13.055521</td>\n",
       "    </tr>\n",
       "    <tr>\n",
       "      <th>3</th>\n",
       "      <td>1.256637</td>\n",
       "      <td>0.949799</td>\n",
       "      <td>1.579137</td>\n",
       "      <td>1.984402</td>\n",
       "      <td>2.493673</td>\n",
       "      <td>3.133642</td>\n",
       "      <td>3.937850</td>\n",
       "      <td>4.948448</td>\n",
       "      <td>6.218404</td>\n",
       "      <td>7.814277</td>\n",
       "      <td>9.819710</td>\n",
       "      <td>12.339811</td>\n",
       "      <td>15.506664</td>\n",
       "      <td>19.486248</td>\n",
       "      <td>24.487142</td>\n",
       "      <td>30.771450</td>\n",
       "    </tr>\n",
       "    <tr>\n",
       "      <th>4</th>\n",
       "      <td>1.326450</td>\n",
       "      <td>1.063496</td>\n",
       "      <td>1.759470</td>\n",
       "      <td>2.333850</td>\n",
       "      <td>3.095735</td>\n",
       "      <td>4.106339</td>\n",
       "      <td>5.446854</td>\n",
       "      <td>7.224981</td>\n",
       "      <td>9.583578</td>\n",
       "      <td>12.712139</td>\n",
       "      <td>16.862020</td>\n",
       "      <td>22.366630</td>\n",
       "      <td>29.668222</td>\n",
       "      <td>39.353420</td>\n",
       "      <td>52.200353</td>\n",
       "      <td>69.241170</td>\n",
       "    </tr>\n",
       "  </tbody>\n",
       "</table>\n",
       "</div>"
      ],
      "text/plain": [
       "          x         y       x_2       x_3       x_4       x_5       x_6  \\\n",
       "0  1.047198  1.065763  1.096623  1.148381  1.202581  1.259340  1.318778   \n",
       "1  1.117011  1.006086  1.247713  1.393709  1.556788  1.738948  1.942424   \n",
       "2  1.186824  0.695374  1.408551  1.671702  1.984016  2.354677  2.794587   \n",
       "3  1.256637  0.949799  1.579137  1.984402  2.493673  3.133642  3.937850   \n",
       "4  1.326450  1.063496  1.759470  2.333850  3.095735  4.106339  5.446854   \n",
       "\n",
       "        x_7       x_8        x_9       x_10       x_11       x_12       x_13  \\\n",
       "0  1.381021  1.446202   1.514459   1.585938   1.660790   1.739176   1.821260   \n",
       "1  2.169709  2.423588   2.707173   3.023942   3.377775   3.773011   4.214494   \n",
       "2  3.316683  3.936319   4.671717   5.544505   6.580351   7.809718   9.268760   \n",
       "3  4.948448  6.218404   7.814277   9.819710  12.339811  15.506664  19.486248   \n",
       "4  7.224981  9.583578  12.712139  16.862020  22.366630  29.668222  39.353420   \n",
       "\n",
       "        x_14       x_15  \n",
       "0   1.907219   1.997235  \n",
       "1   4.707635   5.258479  \n",
       "2  11.000386  13.055521  \n",
       "3  24.487142  30.771450  \n",
       "4  52.200353  69.241170  "
      ]
     },
     "execution_count": 3,
     "metadata": {},
     "output_type": "execute_result"
    }
   ],
   "source": [
    "# creating all the features.\n",
    "for i in range(2,16):  #power of 1 is already there\n",
    "    colname = 'x_'+str(i)      #new var will be x_power\n",
    "    data[colname] = data['x']**i\n",
    "data.head()"
   ]
  },
  {
   "cell_type": "markdown",
   "id": "f936be21",
   "metadata": {
    "id": "f936be21"
   },
   "source": [
    "## Linear Model - Underfitting"
   ]
  },
  {
   "cell_type": "code",
   "execution_count": 4,
   "id": "09a227ff",
   "metadata": {
    "id": "09a227ff",
    "outputId": "6909be0a-eeab-4849-f627-249adc6e2f3a"
   },
   "outputs": [
    {
     "data": {
      "text/plain": [
       "[<matplotlib.lines.Line2D at 0x7fb82d410730>]"
      ]
     },
     "execution_count": 4,
     "metadata": {},
     "output_type": "execute_result"
    },
    {
     "data": {
      "image/png": "[encoded data removed]",
      "text/plain": [
       "<Figure size 432x288 with 1 Axes>"
      ]
     },
     "metadata": {
      "needs_background": "light"
     },
     "output_type": "display_data"
    }
   ],
   "source": [
    "from sklearn.linear_model import LinearRegression\n",
    "linreg = LinearRegression(normalize=True)\n",
    "linreg.fit(data[['x']],data[['y']]) # linear regression\n",
    "y_pred = linreg.predict(data[['x']])\n",
    "\n",
    "plt.plot(data[['x']],y_pred)\n",
    "plt.plot(data[['x']],data[['y']],'.')"
   ]
  },
  {
   "cell_type": "markdown",
   "id": "499d4104",
   "metadata": {
    "id": "499d4104"
   },
   "source": [
    "## Polynomial Regression - Degree 3"
   ]
  },
  {
   "cell_type": "code",
   "execution_count": 5,
   "id": "52a44470",
   "metadata": {
    "id": "52a44470",
    "outputId": "557ace4c-36a1-4993-fcc7-d95149a33f91"
   },
   "outputs": [
    {
     "data": {
      "text/plain": [
       "[<matplotlib.lines.Line2D at 0x7fb82d45ed90>]"
      ]
     },
     "execution_count": 5,
     "metadata": {},
     "output_type": "execute_result"
    },
    {
     "data": {
      "image/png": "[encoded data removed]",
      "text/plain": [
       "<Figure size 432x288 with 1 Axes>"
      ]
     },
     "metadata": {
      "needs_background": "light"
     },
     "output_type": "display_data"
    }
   ],
   "source": [
    "from sklearn.linear_model import LinearRegression\n",
    "linreg = LinearRegression(normalize=True)\n",
    "linreg.fit(data[['x','x_2','x_3']],data[['y']])\n",
    "y_pred = linreg.predict(data[['x','x_2','x_3']])\n",
    "\n",
    "plt.plot(data[['x']],y_pred)\n",
    "plt.plot(data[['x']],data[['y']],'.')"
   ]
  },
  {
   "cell_type": "markdown",
   "id": "ea97729f",
   "metadata": {},
   "source": [
    "it's an underfitting curve"
   ]
  },
  {
   "cell_type": "markdown",
   "id": "9c1cda25",
   "metadata": {
    "id": "9c1cda25"
   },
   "source": [
    "## Polynomial Regression - Degree 15"
   ]
  },
  {
   "cell_type": "code",
   "execution_count": 6,
   "id": "7432cfd9",
   "metadata": {
    "id": "7432cfd9",
    "outputId": "d2319739-e665-4345-a1f7-b9aeca5fe76c",
    "scrolled": true
   },
   "outputs": [
    {
     "data": {
      "text/plain": [
       "[<matplotlib.lines.Line2D at 0x7fb82d4c14c0>]"
      ]
     },
     "execution_count": 6,
     "metadata": {},
     "output_type": "execute_result"
    },
    {
     "data": {
      "image/png": "[encoded data removed]",
      "text/plain": [
       "<Figure size 432x288 with 1 Axes>"
      ]
     },
     "metadata": {
      "needs_background": "light"
     },
     "output_type": "display_data"
    }
   ],
   "source": [
    "from sklearn.linear_model import LinearRegression\n",
    "linreg = LinearRegression(normalize=True)\n",
    "predictors=['x']\n",
    "predictors.extend(['x_%d'%i for i in range(2,15+1)]) # fitting for the 15 features. \n",
    "linreg.fit(data[predictors],data[['y']])\n",
    "y_pred = linreg.predict(data[predictors])\n",
    "\n",
    "plt.plot(data[['x']],y_pred)\n",
    "plt.plot(data[['x']],data[['y']],'.')"
   ]
  },
  {
   "cell_type": "markdown",
   "id": "9c2dcef6",
   "metadata": {},
   "source": [
    "when considering 15 features it's an over fitting curve\n"
   ]
  },
  {
   "cell_type": "markdown",
   "id": "c1fed4ed",
   "metadata": {
    "id": "c1fed4ed"
   },
   "source": [
    "## Ridge regularization"
   ]
  },
  {
   "cell_type": "code",
   "execution_count": 7,
   "id": "50287769",
   "metadata": {
    "id": "50287769",
    "outputId": "ddf1821e-2263-4a84-8a43-1417b9debf33"
   },
   "outputs": [
    {
     "data": {
      "text/plain": [
       "[<matplotlib.lines.Line2D at 0x7fb82d5936d0>]"
      ]
     },
     "execution_count": 7,
     "metadata": {},
     "output_type": "execute_result"
    },
    {
     "data": {
      "image/png": "[encoded data removed]",
      "text/plain": [
       "<Figure size 432x288 with 1 Axes>"
      ]
     },
     "metadata": {
      "needs_background": "light"
     },
     "output_type": "display_data"
    }
   ],
   "source": [
    "from sklearn.linear_model import Ridge\n",
    "alpha_list = [1e-15, 1e-10, 1e-8, 1e-4, 1e-3,1e-2, 1, 5, 10, 20]\n",
    "alpha =alpha_list[3]\n",
    "# alpha is some combination of lambda. \n",
    "\n",
    "predictors=['x']\n",
    "predictors.extend(['x_%d'%i for i in range(2,15+1)]) # still we are considering 15 features. \n",
    "\n",
    "ridgereg = Ridge(alpha=alpha,normalize=True)\n",
    "ridgereg.fit(data[predictors],data['y'])\n",
    "y_pred = ridgereg.predict(data[predictors])\n",
    "\n",
    "\n",
    "plt.plot(data[['x']],y_pred)\n",
    "plt.plot(data[['x']],data[['y']],'.')"
   ]
  },
  {
   "cell_type": "markdown",
   "id": "2d47a357",
   "metadata": {
    "id": "2d47a357"
   },
   "source": [
    "## Lasso Regularization"
   ]
  },
  {
   "cell_type": "code",
   "execution_count": 8,
   "id": "533d563d",
   "metadata": {
    "id": "533d563d",
    "outputId": "29d15320-9445-4b61-96cb-ebbb6d2975ec",
    "scrolled": true
   },
   "outputs": [
    {
     "data": {
      "text/plain": [
       "[<matplotlib.lines.Line2D at 0x7fb82da89730>]"
      ]
     },
     "execution_count": 8,
     "metadata": {},
     "output_type": "execute_result"
    },
    {
     "data": {
      "image/png": "[encoded data removed]",
      "text/plain": [
       "<Figure size 432x288 with 1 Axes>"
      ]
     },
     "metadata": {
      "needs_background": "light"
     },
     "output_type": "display_data"
    }
   ],
   "source": [
    "from sklearn.linear_model import Lasso\n",
    "alpha_list = [1e-15, 1e-10, 1e-8, 1e-4, 1e-3,1e-2, 1, 5, 10, 20]\n",
    "alpha =alpha_list[3]\n",
    "\n",
    "predictors=['x']\n",
    "predictors.extend(['x_%d'%i for i in range(2,15+1)])\n",
    "\n",
    "lassoreg = Lasso(alpha=alpha,normalize=True, max_iter=1e5)\n",
    "lassoreg.fit(data[predictors],data['y'])\n",
    "y_pred = lassoreg.predict(data[predictors])\n",
    "\n",
    "plt.plot(data[['x']],y_pred)\n",
    "plt.plot(data[['x']],data[['y']],'.')"
   ]
  },
  {
   "cell_type": "code",
   "execution_count": 9,
   "id": "189d99f5",
   "metadata": {},
   "outputs": [
    {
     "data": {
      "text/plain": [
       "15"
      ]
     },
     "execution_count": 9,
     "metadata": {},
     "output_type": "execute_result"
    }
   ],
   "source": [
    "len(predictors)"
   ]
  },
  {
   "cell_type": "code",
   "execution_count": 10,
   "id": "e9c55192",
   "metadata": {
    "id": "e9c55192",
    "outputId": "af50c3a4-0de8-4d95-abb4-c4ebf3b8b67b"
   },
   "outputs": [
    {
     "data": {
      "text/plain": [
       "array([ 5.46549061e-01, -1.28142340e-01, -2.57129818e-02, -2.82024334e-03,\n",
       "       -1.10298924e-04,  4.05749861e-05,  1.52074703e-05,  3.65239053e-06,\n",
       "        7.36585356e-07,  1.30351139e-07,  1.94449887e-08,  1.93532863e-09,\n",
       "       -1.30259300e-10, -1.54943178e-10, -6.17707027e-11])"
      ]
     },
     "execution_count": 10,
     "metadata": {},
     "output_type": "execute_result"
    }
   ],
   "source": [
    "ridgereg.coef_"
   ]
  },
  {
   "cell_type": "markdown",
   "id": "16a38e5f",
   "metadata": {
    "id": "d46ee948"
   },
   "source": [
    "even though we change the alpha value coefficients never become zero."
   ]
  },
  {
   "cell_type": "code",
   "execution_count": 11,
   "id": "b9fd3a64",
   "metadata": {},
   "outputs": [
    {
     "data": {
      "text/plain": [
       "array([ 1.71099965e-01, -0.00000000e+00, -4.77801445e-02, -0.00000000e+00,\n",
       "       -0.00000000e+00,  0.00000000e+00,  0.00000000e+00,  9.46533636e-06,\n",
       "        5.09952590e-07,  0.00000000e+00,  0.00000000e+00,  0.00000000e+00,\n",
       "       -0.00000000e+00, -0.00000000e+00, -4.40439061e-11])"
      ]
     },
     "execution_count": 11,
     "metadata": {},
     "output_type": "execute_result"
    }
   ],
   "source": [
    "lassoreg.coef_"
   ]
  },
  {
   "cell_type": "markdown",
   "id": "b13a89f9",
   "metadata": {},
   "source": [
    "some of then are definectly zero's because we are using lasso normalization. and some of them are non zeros"
   ]
  },
  {
   "cell_type": "code",
   "execution_count": null,
   "id": "3a5e9b93",
   "metadata": {},
   "outputs": [],
   "source": []
  }
 ],
 "metadata": {
  "colab": {
   "provenance": []
  },
  "kernelspec": {
   "display_name": "Python 3",
   "language": "python",
   "name": "python3"
  },
  "language_info": {
   "codemirror_mode": {
    "name": "ipython",
    "version": 3
   },
   "file_extension": ".py",
   "mimetype": "text/x-python",
   "name": "python",
   "nbconvert_exporter": "python",
   "pygments_lexer": "ipython3",
   "version": "3.8.8"
  }
 },
 "nbformat": 4,
 "nbformat_minor": 5
}
