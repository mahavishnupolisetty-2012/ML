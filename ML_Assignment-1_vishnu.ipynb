{
 "cells": [
  {
   "cell_type": "markdown",
   "id": "d7d7f1d8",
   "metadata": {},
   "source": [
    "# NB and Logistic Regression Project \n",
    "\n",
    "Welcome to NB and Logistic Regression Project! Go ahead and follow the directions below."
   ]
  },
  {
   "cell_type": "markdown",
   "id": "7314d2dd",
   "metadata": {},
   "source": [
    "**Build a classification model which will recognise the activities through the mobile sensor like walking, walking_upstairs  ,walking_downstairs ,sitting  ,standing,lying.The topic Human Activity recognition is in research and has its own advantages like anomaly detection, for healthy diet maintenance fitness bands are used , measuring stress level ,for monitoring employees ,for heartbeat pulse rate etc. In this project we are going to focus on  the dataset which was carried out through experiments with a group of 30 volunteers wearing a smartphone.The experiments have been video-recorded to label the data manually.The  main motto is to use the dataset and work with the libraries like scikit learn and machine learning related libraries and algorithms while training.**"
   ]
  },
  {
   "cell_type": "markdown",
   "id": "ec6cd280",
   "metadata": {},
   "source": [
    "# <font color='red'>Download and submit only HTML file</font>"
   ]
  },
  {
   "cell_type": "markdown",
   "id": "976bc35a",
   "metadata": {},
   "source": [
    "###### Group members\n",
    "* POLISETTY SRIMAHAVISHNU - 2019A4PS0321H\n"
   ]
  },
  {
   "cell_type": "markdown",
   "id": "fd98b33b",
   "metadata": {},
   "source": [
    "# Import Libraries\n",
    "**Import pandas,seaborn, and the usual libraries.**"
   ]
  },
  {
   "cell_type": "code",
   "execution_count": 134,
   "id": "38b8134c",
   "metadata": {},
   "outputs": [],
   "source": [
    "import pandas as pd\n",
    "import numpy as np\n",
    "import seaborn as sns\n",
    "import matplotlib.pyplot as plt\n",
    "%matplotlib inline"
   ]
  },
  {
   "cell_type": "code",
   "execution_count": 135,
   "id": "c548d823",
   "metadata": {},
   "outputs": [],
   "source": [
    "import os"
   ]
  },
  {
   "cell_type": "code",
   "execution_count": 136,
   "id": "ad6a4b1e",
   "metadata": {},
   "outputs": [],
   "source": [
    "from sklearn.preprocessing import MinMaxScaler \n",
    "from sklearn.linear_model  import Ridge,Lasso,RidgeCV, LassoCV, ElasticNet, ElasticNetCV,LogisticRegression\n",
    "from sklearn.model_selection import train_test_split\n",
    "from statsmodels.stats.outliers_influence import variance_inflation_factor \n",
    "from sklearn.metrics import accuracy_score, confusion_matrix, roc_curve, roc_auc_score"
   ]
  },
  {
   "cell_type": "code",
   "execution_count": null,
   "id": "8281a520",
   "metadata": {},
   "outputs": [],
   "source": []
  },
  {
   "cell_type": "code",
   "execution_count": 137,
   "id": "d8121c96",
   "metadata": {},
   "outputs": [
    {
     "data": {
      "text/plain": [
       "'F:\\\\ML assignment'"
      ]
     },
     "execution_count": 137,
     "metadata": {},
     "output_type": "execute_result"
    }
   ],
   "source": [
    "os.getcwd()"
   ]
  },
  {
   "cell_type": "code",
   "execution_count": 138,
   "id": "eff789a3",
   "metadata": {},
   "outputs": [],
   "source": [
    "os.chdir('F:\\\\ML assignment')"
   ]
  },
  {
   "cell_type": "code",
   "execution_count": 139,
   "id": "b1293e20",
   "metadata": {},
   "outputs": [],
   "source": [
    "data=pd.read_csv('KAUSTAV CHATTERJI - human_activity.csv')"
   ]
  },
  {
   "cell_type": "code",
   "execution_count": 140,
   "id": "24e82e0a",
   "metadata": {},
   "outputs": [
    {
     "data": {
      "text/html": [
       "<div>\n",
       "<style scoped>\n",
       "    .dataframe tbody tr th:only-of-type {\n",
       "        vertical-align: middle;\n",
       "    }\n",
       "\n",
       "    .dataframe tbody tr th {\n",
       "        vertical-align: top;\n",
       "    }\n",
       "\n",
       "    .dataframe thead th {\n",
       "        text-align: right;\n",
       "    }\n",
       "</style>\n",
       "<table border=\"1\" class=\"dataframe\">\n",
       "  <thead>\n",
       "    <tr style=\"text-align: right;\">\n",
       "      <th></th>\n",
       "      <th>tBodyAcc-mean()-X</th>\n",
       "      <th>tBodyAcc-mean()-Y</th>\n",
       "      <th>tBodyAcc-mean()-Z</th>\n",
       "      <th>tBodyAcc-std()-X</th>\n",
       "      <th>tBodyAcc-std()-Y</th>\n",
       "      <th>tBodyAcc-std()-Z</th>\n",
       "      <th>tBodyAcc-mad()-X</th>\n",
       "      <th>tBodyAcc-mad()-Y</th>\n",
       "      <th>tBodyAcc-mad()-Z</th>\n",
       "      <th>tBodyAcc-max()-X</th>\n",
       "      <th>...</th>\n",
       "      <th>fBodyBodyGyroJerkMag-kurtosis()</th>\n",
       "      <th>angle(tBodyAccMean,gravity)</th>\n",
       "      <th>angle(tBodyAccJerkMean),gravityMean)</th>\n",
       "      <th>angle(tBodyGyroMean,gravityMean)</th>\n",
       "      <th>angle(tBodyGyroJerkMean,gravityMean)</th>\n",
       "      <th>angle(X,gravityMean)</th>\n",
       "      <th>angle(Y,gravityMean)</th>\n",
       "      <th>angle(Z,gravityMean)</th>\n",
       "      <th>subject</th>\n",
       "      <th>Activity</th>\n",
       "    </tr>\n",
       "  </thead>\n",
       "  <tbody>\n",
       "    <tr>\n",
       "      <th>0</th>\n",
       "      <td>0.288585</td>\n",
       "      <td>-0.020294</td>\n",
       "      <td>-0.132905</td>\n",
       "      <td>-0.995279</td>\n",
       "      <td>-0.983111</td>\n",
       "      <td>-0.913526</td>\n",
       "      <td>-0.995112</td>\n",
       "      <td>-0.983185</td>\n",
       "      <td>-0.923527</td>\n",
       "      <td>-0.934724</td>\n",
       "      <td>...</td>\n",
       "      <td>-0.710304</td>\n",
       "      <td>-0.112754</td>\n",
       "      <td>0.030400</td>\n",
       "      <td>-0.464761</td>\n",
       "      <td>-0.018446</td>\n",
       "      <td>-0.841247</td>\n",
       "      <td>0.179941</td>\n",
       "      <td>-0.058627</td>\n",
       "      <td>1</td>\n",
       "      <td>STANDING</td>\n",
       "    </tr>\n",
       "    <tr>\n",
       "      <th>1</th>\n",
       "      <td>0.278419</td>\n",
       "      <td>-0.016411</td>\n",
       "      <td>-0.123520</td>\n",
       "      <td>-0.998245</td>\n",
       "      <td>-0.975300</td>\n",
       "      <td>-0.960322</td>\n",
       "      <td>-0.998807</td>\n",
       "      <td>-0.974914</td>\n",
       "      <td>-0.957686</td>\n",
       "      <td>-0.943068</td>\n",
       "      <td>...</td>\n",
       "      <td>-0.861499</td>\n",
       "      <td>0.053477</td>\n",
       "      <td>-0.007435</td>\n",
       "      <td>-0.732626</td>\n",
       "      <td>0.703511</td>\n",
       "      <td>-0.844788</td>\n",
       "      <td>0.180289</td>\n",
       "      <td>-0.054317</td>\n",
       "      <td>1</td>\n",
       "      <td>STANDING</td>\n",
       "    </tr>\n",
       "    <tr>\n",
       "      <th>2</th>\n",
       "      <td>0.279653</td>\n",
       "      <td>-0.019467</td>\n",
       "      <td>-0.113462</td>\n",
       "      <td>-0.995380</td>\n",
       "      <td>-0.967187</td>\n",
       "      <td>-0.978944</td>\n",
       "      <td>-0.996520</td>\n",
       "      <td>-0.963668</td>\n",
       "      <td>-0.977469</td>\n",
       "      <td>-0.938692</td>\n",
       "      <td>...</td>\n",
       "      <td>-0.760104</td>\n",
       "      <td>-0.118559</td>\n",
       "      <td>0.177899</td>\n",
       "      <td>0.100699</td>\n",
       "      <td>0.808529</td>\n",
       "      <td>-0.848933</td>\n",
       "      <td>0.180637</td>\n",
       "      <td>-0.049118</td>\n",
       "      <td>1</td>\n",
       "      <td>STANDING</td>\n",
       "    </tr>\n",
       "    <tr>\n",
       "      <th>3</th>\n",
       "      <td>0.279174</td>\n",
       "      <td>-0.026201</td>\n",
       "      <td>-0.123283</td>\n",
       "      <td>-0.996091</td>\n",
       "      <td>-0.983403</td>\n",
       "      <td>-0.990675</td>\n",
       "      <td>-0.997099</td>\n",
       "      <td>-0.982750</td>\n",
       "      <td>-0.989302</td>\n",
       "      <td>-0.938692</td>\n",
       "      <td>...</td>\n",
       "      <td>-0.482845</td>\n",
       "      <td>-0.036788</td>\n",
       "      <td>-0.012892</td>\n",
       "      <td>0.640011</td>\n",
       "      <td>-0.485366</td>\n",
       "      <td>-0.848649</td>\n",
       "      <td>0.181935</td>\n",
       "      <td>-0.047663</td>\n",
       "      <td>1</td>\n",
       "      <td>STANDING</td>\n",
       "    </tr>\n",
       "    <tr>\n",
       "      <th>4</th>\n",
       "      <td>0.276629</td>\n",
       "      <td>-0.016570</td>\n",
       "      <td>-0.115362</td>\n",
       "      <td>-0.998139</td>\n",
       "      <td>-0.980817</td>\n",
       "      <td>-0.990482</td>\n",
       "      <td>-0.998321</td>\n",
       "      <td>-0.979672</td>\n",
       "      <td>-0.990441</td>\n",
       "      <td>-0.942469</td>\n",
       "      <td>...</td>\n",
       "      <td>-0.699205</td>\n",
       "      <td>0.123320</td>\n",
       "      <td>0.122542</td>\n",
       "      <td>0.693578</td>\n",
       "      <td>-0.615971</td>\n",
       "      <td>-0.847865</td>\n",
       "      <td>0.185151</td>\n",
       "      <td>-0.043892</td>\n",
       "      <td>1</td>\n",
       "      <td>STANDING</td>\n",
       "    </tr>\n",
       "  </tbody>\n",
       "</table>\n",
       "<p>5 rows × 563 columns</p>\n",
       "</div>"
      ],
      "text/plain": [
       "   tBodyAcc-mean()-X  tBodyAcc-mean()-Y  tBodyAcc-mean()-Z  tBodyAcc-std()-X  \\\n",
       "0           0.288585          -0.020294          -0.132905         -0.995279   \n",
       "1           0.278419          -0.016411          -0.123520         -0.998245   \n",
       "2           0.279653          -0.019467          -0.113462         -0.995380   \n",
       "3           0.279174          -0.026201          -0.123283         -0.996091   \n",
       "4           0.276629          -0.016570          -0.115362         -0.998139   \n",
       "\n",
       "   tBodyAcc-std()-Y  tBodyAcc-std()-Z  tBodyAcc-mad()-X  tBodyAcc-mad()-Y  \\\n",
       "0         -0.983111         -0.913526         -0.995112         -0.983185   \n",
       "1         -0.975300         -0.960322         -0.998807         -0.974914   \n",
       "2         -0.967187         -0.978944         -0.996520         -0.963668   \n",
       "3         -0.983403         -0.990675         -0.997099         -0.982750   \n",
       "4         -0.980817         -0.990482         -0.998321         -0.979672   \n",
       "\n",
       "   tBodyAcc-mad()-Z  tBodyAcc-max()-X  ...  fBodyBodyGyroJerkMag-kurtosis()  \\\n",
       "0         -0.923527         -0.934724  ...                        -0.710304   \n",
       "1         -0.957686         -0.943068  ...                        -0.861499   \n",
       "2         -0.977469         -0.938692  ...                        -0.760104   \n",
       "3         -0.989302         -0.938692  ...                        -0.482845   \n",
       "4         -0.990441         -0.942469  ...                        -0.699205   \n",
       "\n",
       "   angle(tBodyAccMean,gravity)  angle(tBodyAccJerkMean),gravityMean)  \\\n",
       "0                    -0.112754                              0.030400   \n",
       "1                     0.053477                             -0.007435   \n",
       "2                    -0.118559                              0.177899   \n",
       "3                    -0.036788                             -0.012892   \n",
       "4                     0.123320                              0.122542   \n",
       "\n",
       "   angle(tBodyGyroMean,gravityMean)  angle(tBodyGyroJerkMean,gravityMean)  \\\n",
       "0                         -0.464761                             -0.018446   \n",
       "1                         -0.732626                              0.703511   \n",
       "2                          0.100699                              0.808529   \n",
       "3                          0.640011                             -0.485366   \n",
       "4                          0.693578                             -0.615971   \n",
       "\n",
       "   angle(X,gravityMean)  angle(Y,gravityMean)  angle(Z,gravityMean)  subject  \\\n",
       "0             -0.841247              0.179941             -0.058627        1   \n",
       "1             -0.844788              0.180289             -0.054317        1   \n",
       "2             -0.848933              0.180637             -0.049118        1   \n",
       "3             -0.848649              0.181935             -0.047663        1   \n",
       "4             -0.847865              0.185151             -0.043892        1   \n",
       "\n",
       "   Activity  \n",
       "0  STANDING  \n",
       "1  STANDING  \n",
       "2  STANDING  \n",
       "3  STANDING  \n",
       "4  STANDING  \n",
       "\n",
       "[5 rows x 563 columns]"
      ]
     },
     "execution_count": 140,
     "metadata": {},
     "output_type": "execute_result"
    }
   ],
   "source": [
    "data.head()"
   ]
  },
  {
   "cell_type": "code",
   "execution_count": 141,
   "id": "20c49015",
   "metadata": {},
   "outputs": [
    {
     "data": {
      "text/html": [
       "<div>\n",
       "<style scoped>\n",
       "    .dataframe tbody tr th:only-of-type {\n",
       "        vertical-align: middle;\n",
       "    }\n",
       "\n",
       "    .dataframe tbody tr th {\n",
       "        vertical-align: top;\n",
       "    }\n",
       "\n",
       "    .dataframe thead th {\n",
       "        text-align: right;\n",
       "    }\n",
       "</style>\n",
       "<table border=\"1\" class=\"dataframe\">\n",
       "  <thead>\n",
       "    <tr style=\"text-align: right;\">\n",
       "      <th></th>\n",
       "      <th>tBodyAcc-mean()-X</th>\n",
       "      <th>tBodyAcc-mean()-Y</th>\n",
       "      <th>tBodyAcc-mean()-Z</th>\n",
       "      <th>tBodyAcc-std()-X</th>\n",
       "      <th>tBodyAcc-std()-Y</th>\n",
       "      <th>tBodyAcc-std()-Z</th>\n",
       "      <th>tBodyAcc-mad()-X</th>\n",
       "      <th>tBodyAcc-mad()-Y</th>\n",
       "      <th>tBodyAcc-mad()-Z</th>\n",
       "      <th>tBodyAcc-max()-X</th>\n",
       "      <th>...</th>\n",
       "      <th>fBodyBodyGyroJerkMag-skewness()</th>\n",
       "      <th>fBodyBodyGyroJerkMag-kurtosis()</th>\n",
       "      <th>angle(tBodyAccMean,gravity)</th>\n",
       "      <th>angle(tBodyAccJerkMean),gravityMean)</th>\n",
       "      <th>angle(tBodyGyroMean,gravityMean)</th>\n",
       "      <th>angle(tBodyGyroJerkMean,gravityMean)</th>\n",
       "      <th>angle(X,gravityMean)</th>\n",
       "      <th>angle(Y,gravityMean)</th>\n",
       "      <th>angle(Z,gravityMean)</th>\n",
       "      <th>subject</th>\n",
       "    </tr>\n",
       "  </thead>\n",
       "  <tbody>\n",
       "    <tr>\n",
       "      <th>count</th>\n",
       "      <td>7352.000000</td>\n",
       "      <td>7352.000000</td>\n",
       "      <td>7352.000000</td>\n",
       "      <td>7352.000000</td>\n",
       "      <td>7352.000000</td>\n",
       "      <td>7352.000000</td>\n",
       "      <td>7352.000000</td>\n",
       "      <td>7352.000000</td>\n",
       "      <td>7352.000000</td>\n",
       "      <td>7352.000000</td>\n",
       "      <td>...</td>\n",
       "      <td>7352.000000</td>\n",
       "      <td>7352.000000</td>\n",
       "      <td>7352.000000</td>\n",
       "      <td>7352.000000</td>\n",
       "      <td>7352.000000</td>\n",
       "      <td>7352.000000</td>\n",
       "      <td>7352.000000</td>\n",
       "      <td>7352.000000</td>\n",
       "      <td>7352.000000</td>\n",
       "      <td>7352.000000</td>\n",
       "    </tr>\n",
       "    <tr>\n",
       "      <th>mean</th>\n",
       "      <td>0.274488</td>\n",
       "      <td>-0.017695</td>\n",
       "      <td>-0.109141</td>\n",
       "      <td>-0.605438</td>\n",
       "      <td>-0.510938</td>\n",
       "      <td>-0.604754</td>\n",
       "      <td>-0.630512</td>\n",
       "      <td>-0.526907</td>\n",
       "      <td>-0.606150</td>\n",
       "      <td>-0.468604</td>\n",
       "      <td>...</td>\n",
       "      <td>-0.307009</td>\n",
       "      <td>-0.625294</td>\n",
       "      <td>0.008684</td>\n",
       "      <td>0.002186</td>\n",
       "      <td>0.008726</td>\n",
       "      <td>-0.005981</td>\n",
       "      <td>-0.489547</td>\n",
       "      <td>0.058593</td>\n",
       "      <td>-0.056515</td>\n",
       "      <td>17.413085</td>\n",
       "    </tr>\n",
       "    <tr>\n",
       "      <th>std</th>\n",
       "      <td>0.070261</td>\n",
       "      <td>0.040811</td>\n",
       "      <td>0.056635</td>\n",
       "      <td>0.448734</td>\n",
       "      <td>0.502645</td>\n",
       "      <td>0.418687</td>\n",
       "      <td>0.424073</td>\n",
       "      <td>0.485942</td>\n",
       "      <td>0.414122</td>\n",
       "      <td>0.544547</td>\n",
       "      <td>...</td>\n",
       "      <td>0.321011</td>\n",
       "      <td>0.307584</td>\n",
       "      <td>0.336787</td>\n",
       "      <td>0.448306</td>\n",
       "      <td>0.608303</td>\n",
       "      <td>0.477975</td>\n",
       "      <td>0.511807</td>\n",
       "      <td>0.297480</td>\n",
       "      <td>0.279122</td>\n",
       "      <td>8.975143</td>\n",
       "    </tr>\n",
       "    <tr>\n",
       "      <th>min</th>\n",
       "      <td>-1.000000</td>\n",
       "      <td>-1.000000</td>\n",
       "      <td>-1.000000</td>\n",
       "      <td>-1.000000</td>\n",
       "      <td>-0.999873</td>\n",
       "      <td>-1.000000</td>\n",
       "      <td>-1.000000</td>\n",
       "      <td>-1.000000</td>\n",
       "      <td>-1.000000</td>\n",
       "      <td>-1.000000</td>\n",
       "      <td>...</td>\n",
       "      <td>-0.995357</td>\n",
       "      <td>-0.999765</td>\n",
       "      <td>-0.976580</td>\n",
       "      <td>-1.000000</td>\n",
       "      <td>-1.000000</td>\n",
       "      <td>-1.000000</td>\n",
       "      <td>-1.000000</td>\n",
       "      <td>-1.000000</td>\n",
       "      <td>-1.000000</td>\n",
       "      <td>1.000000</td>\n",
       "    </tr>\n",
       "    <tr>\n",
       "      <th>25%</th>\n",
       "      <td>0.262975</td>\n",
       "      <td>-0.024863</td>\n",
       "      <td>-0.120993</td>\n",
       "      <td>-0.992754</td>\n",
       "      <td>-0.978129</td>\n",
       "      <td>-0.980233</td>\n",
       "      <td>-0.993591</td>\n",
       "      <td>-0.978162</td>\n",
       "      <td>-0.980251</td>\n",
       "      <td>-0.936219</td>\n",
       "      <td>...</td>\n",
       "      <td>-0.542602</td>\n",
       "      <td>-0.845573</td>\n",
       "      <td>-0.121527</td>\n",
       "      <td>-0.289549</td>\n",
       "      <td>-0.482273</td>\n",
       "      <td>-0.376341</td>\n",
       "      <td>-0.812065</td>\n",
       "      <td>-0.017885</td>\n",
       "      <td>-0.143414</td>\n",
       "      <td>8.000000</td>\n",
       "    </tr>\n",
       "    <tr>\n",
       "      <th>50%</th>\n",
       "      <td>0.277193</td>\n",
       "      <td>-0.017219</td>\n",
       "      <td>-0.108676</td>\n",
       "      <td>-0.946196</td>\n",
       "      <td>-0.851897</td>\n",
       "      <td>-0.859365</td>\n",
       "      <td>-0.950709</td>\n",
       "      <td>-0.857328</td>\n",
       "      <td>-0.857143</td>\n",
       "      <td>-0.881637</td>\n",
       "      <td>...</td>\n",
       "      <td>-0.343685</td>\n",
       "      <td>-0.711692</td>\n",
       "      <td>0.009509</td>\n",
       "      <td>0.008943</td>\n",
       "      <td>0.008735</td>\n",
       "      <td>-0.000368</td>\n",
       "      <td>-0.709417</td>\n",
       "      <td>0.182071</td>\n",
       "      <td>0.003181</td>\n",
       "      <td>19.000000</td>\n",
       "    </tr>\n",
       "    <tr>\n",
       "      <th>75%</th>\n",
       "      <td>0.288461</td>\n",
       "      <td>-0.010783</td>\n",
       "      <td>-0.097794</td>\n",
       "      <td>-0.242813</td>\n",
       "      <td>-0.034231</td>\n",
       "      <td>-0.262415</td>\n",
       "      <td>-0.292680</td>\n",
       "      <td>-0.066701</td>\n",
       "      <td>-0.265671</td>\n",
       "      <td>-0.017129</td>\n",
       "      <td>...</td>\n",
       "      <td>-0.126979</td>\n",
       "      <td>-0.503878</td>\n",
       "      <td>0.150865</td>\n",
       "      <td>0.292861</td>\n",
       "      <td>0.506187</td>\n",
       "      <td>0.359368</td>\n",
       "      <td>-0.509079</td>\n",
       "      <td>0.248353</td>\n",
       "      <td>0.107659</td>\n",
       "      <td>26.000000</td>\n",
       "    </tr>\n",
       "    <tr>\n",
       "      <th>max</th>\n",
       "      <td>1.000000</td>\n",
       "      <td>1.000000</td>\n",
       "      <td>1.000000</td>\n",
       "      <td>1.000000</td>\n",
       "      <td>0.916238</td>\n",
       "      <td>1.000000</td>\n",
       "      <td>1.000000</td>\n",
       "      <td>0.967664</td>\n",
       "      <td>1.000000</td>\n",
       "      <td>1.000000</td>\n",
       "      <td>...</td>\n",
       "      <td>0.989538</td>\n",
       "      <td>0.956845</td>\n",
       "      <td>1.000000</td>\n",
       "      <td>1.000000</td>\n",
       "      <td>0.998702</td>\n",
       "      <td>0.996078</td>\n",
       "      <td>1.000000</td>\n",
       "      <td>0.478157</td>\n",
       "      <td>1.000000</td>\n",
       "      <td>30.000000</td>\n",
       "    </tr>\n",
       "  </tbody>\n",
       "</table>\n",
       "<p>8 rows × 562 columns</p>\n",
       "</div>"
      ],
      "text/plain": [
       "       tBodyAcc-mean()-X  tBodyAcc-mean()-Y  tBodyAcc-mean()-Z  \\\n",
       "count        7352.000000        7352.000000        7352.000000   \n",
       "mean            0.274488          -0.017695          -0.109141   \n",
       "std             0.070261           0.040811           0.056635   \n",
       "min            -1.000000          -1.000000          -1.000000   \n",
       "25%             0.262975          -0.024863          -0.120993   \n",
       "50%             0.277193          -0.017219          -0.108676   \n",
       "75%             0.288461          -0.010783          -0.097794   \n",
       "max             1.000000           1.000000           1.000000   \n",
       "\n",
       "       tBodyAcc-std()-X  tBodyAcc-std()-Y  tBodyAcc-std()-Z  tBodyAcc-mad()-X  \\\n",
       "count       7352.000000       7352.000000       7352.000000       7352.000000   \n",
       "mean          -0.605438         -0.510938         -0.604754         -0.630512   \n",
       "std            0.448734          0.502645          0.418687          0.424073   \n",
       "min           -1.000000         -0.999873         -1.000000         -1.000000   \n",
       "25%           -0.992754         -0.978129         -0.980233         -0.993591   \n",
       "50%           -0.946196         -0.851897         -0.859365         -0.950709   \n",
       "75%           -0.242813         -0.034231         -0.262415         -0.292680   \n",
       "max            1.000000          0.916238          1.000000          1.000000   \n",
       "\n",
       "       tBodyAcc-mad()-Y  tBodyAcc-mad()-Z  tBodyAcc-max()-X  ...  \\\n",
       "count       7352.000000       7352.000000       7352.000000  ...   \n",
       "mean          -0.526907         -0.606150         -0.468604  ...   \n",
       "std            0.485942          0.414122          0.544547  ...   \n",
       "min           -1.000000         -1.000000         -1.000000  ...   \n",
       "25%           -0.978162         -0.980251         -0.936219  ...   \n",
       "50%           -0.857328         -0.857143         -0.881637  ...   \n",
       "75%           -0.066701         -0.265671         -0.017129  ...   \n",
       "max            0.967664          1.000000          1.000000  ...   \n",
       "\n",
       "       fBodyBodyGyroJerkMag-skewness()  fBodyBodyGyroJerkMag-kurtosis()  \\\n",
       "count                      7352.000000                      7352.000000   \n",
       "mean                         -0.307009                        -0.625294   \n",
       "std                           0.321011                         0.307584   \n",
       "min                          -0.995357                        -0.999765   \n",
       "25%                          -0.542602                        -0.845573   \n",
       "50%                          -0.343685                        -0.711692   \n",
       "75%                          -0.126979                        -0.503878   \n",
       "max                           0.989538                         0.956845   \n",
       "\n",
       "       angle(tBodyAccMean,gravity)  angle(tBodyAccJerkMean),gravityMean)  \\\n",
       "count                  7352.000000                           7352.000000   \n",
       "mean                      0.008684                              0.002186   \n",
       "std                       0.336787                              0.448306   \n",
       "min                      -0.976580                             -1.000000   \n",
       "25%                      -0.121527                             -0.289549   \n",
       "50%                       0.009509                              0.008943   \n",
       "75%                       0.150865                              0.292861   \n",
       "max                       1.000000                              1.000000   \n",
       "\n",
       "       angle(tBodyGyroMean,gravityMean)  angle(tBodyGyroJerkMean,gravityMean)  \\\n",
       "count                       7352.000000                           7352.000000   \n",
       "mean                           0.008726                             -0.005981   \n",
       "std                            0.608303                              0.477975   \n",
       "min                           -1.000000                             -1.000000   \n",
       "25%                           -0.482273                             -0.376341   \n",
       "50%                            0.008735                             -0.000368   \n",
       "75%                            0.506187                              0.359368   \n",
       "max                            0.998702                              0.996078   \n",
       "\n",
       "       angle(X,gravityMean)  angle(Y,gravityMean)  angle(Z,gravityMean)  \\\n",
       "count           7352.000000           7352.000000           7352.000000   \n",
       "mean              -0.489547              0.058593             -0.056515   \n",
       "std                0.511807              0.297480              0.279122   \n",
       "min               -1.000000             -1.000000             -1.000000   \n",
       "25%               -0.812065             -0.017885             -0.143414   \n",
       "50%               -0.709417              0.182071              0.003181   \n",
       "75%               -0.509079              0.248353              0.107659   \n",
       "max                1.000000              0.478157              1.000000   \n",
       "\n",
       "           subject  \n",
       "count  7352.000000  \n",
       "mean     17.413085  \n",
       "std       8.975143  \n",
       "min       1.000000  \n",
       "25%       8.000000  \n",
       "50%      19.000000  \n",
       "75%      26.000000  \n",
       "max      30.000000  \n",
       "\n",
       "[8 rows x 562 columns]"
      ]
     },
     "execution_count": 141,
     "metadata": {},
     "output_type": "execute_result"
    }
   ],
   "source": [
    "data.describe()"
   ]
  },
  {
   "cell_type": "code",
   "execution_count": null,
   "id": "08c25a61",
   "metadata": {},
   "outputs": [],
   "source": []
  },
  {
   "cell_type": "code",
   "execution_count": null,
   "id": "7ade773a",
   "metadata": {},
   "outputs": [],
   "source": []
  },
  {
   "cell_type": "markdown",
   "id": "fa301959",
   "metadata": {},
   "source": [
    "# EDA and Basic Data Preprocessing and Preparation [Marks:2]\n",
    "**If trying auto EDA do it in a different notebook and only highlight important, interesting or unusual pattern that you noticed in the data**\n",
    "\n",
    "<font color='red'>Give justification for your choices and techniques used for every step</font>"
   ]
  },
  {
   "cell_type": "code",
   "execution_count": 142,
   "id": "522f7c38",
   "metadata": {},
   "outputs": [],
   "source": [
    "#USED SWEETVIZ FOR AUTO EDA in different notebook"
   ]
  },
  {
   "cell_type": "code",
   "execution_count": 143,
   "id": "88644384",
   "metadata": {},
   "outputs": [],
   "source": [
    "#FOUND HIGH CORRELATION BETWEEN MANY FEATURES "
   ]
  },
  {
   "cell_type": "code",
   "execution_count": null,
   "id": "6282b8bb",
   "metadata": {},
   "outputs": [],
   "source": []
  },
  {
   "cell_type": "code",
   "execution_count": 144,
   "id": "635a1b47",
   "metadata": {},
   "outputs": [
    {
     "data": {
      "image/png": "[encoded data removed]",
      "text/plain": [
       "<Figure size 432x288 with 1 Axes>"
      ]
     },
     "metadata": {
      "needs_background": "light"
     },
     "output_type": "display_data"
    }
   ],
   "source": [
    "plt.scatter(data['Activity'], data['subject'])\n",
    "plt.show()"
   ]
  },
  {
   "cell_type": "code",
   "execution_count": null,
   "id": "1b2a11ab",
   "metadata": {},
   "outputs": [],
   "source": []
  },
  {
   "cell_type": "code",
   "execution_count": null,
   "id": "08b1e102",
   "metadata": {},
   "outputs": [],
   "source": []
  },
  {
   "cell_type": "code",
   "execution_count": null,
   "id": "603f3872",
   "metadata": {},
   "outputs": [],
   "source": []
  },
  {
   "cell_type": "code",
   "execution_count": null,
   "id": "6540da08",
   "metadata": {},
   "outputs": [],
   "source": []
  },
  {
   "cell_type": "code",
   "execution_count": 145,
   "id": "823e8460",
   "metadata": {},
   "outputs": [],
   "source": [
    "# The subject id number has no relation to the results so drop it"
   ]
  },
  {
   "cell_type": "code",
   "execution_count": 146,
   "id": "21d5290b",
   "metadata": {},
   "outputs": [],
   "source": [
    "data=data.drop(['subject'], axis=1)"
   ]
  },
  {
   "cell_type": "code",
   "execution_count": 147,
   "id": "c86cfea9",
   "metadata": {},
   "outputs": [
    {
     "data": {
      "image/png": "[encoded data removed]",
      "text/plain": [
       "<Figure size 864x432 with 1 Axes>"
      ]
     },
     "metadata": {
      "needs_background": "light"
     },
     "output_type": "display_data"
    }
   ],
   "source": [
    "plt.figure(figsize=(12,6))\n",
    "axis=sns.countplot(x=\"Activity\",data=data)\n",
    "plt.xticks(x=data['Activity'],rotation='vertical')\n",
    "plt.show()"
   ]
  },
  {
   "cell_type": "code",
   "execution_count": 148,
   "id": "d3b60fd2",
   "metadata": {},
   "outputs": [
    {
     "data": {
      "image/png": "[encoded data removed]",
      "text/plain": [
       "<Figure size 432x288 with 2 Axes>"
      ]
     },
     "metadata": {
      "needs_background": "light"
     },
     "output_type": "display_data"
    }
   ],
   "source": [
    "dataplot=sns.heatmap(data.corr())\n",
    "plt.show()"
   ]
  },
  {
   "cell_type": "code",
   "execution_count": null,
   "id": "f8bde8da",
   "metadata": {},
   "outputs": [],
   "source": []
  },
  {
   "cell_type": "code",
   "execution_count": null,
   "id": "47e51df8",
   "metadata": {},
   "outputs": [],
   "source": []
  },
  {
   "cell_type": "code",
   "execution_count": null,
   "id": "ea9bf16b",
   "metadata": {},
   "outputs": [],
   "source": []
  },
  {
   "cell_type": "code",
   "execution_count": null,
   "id": "a3e27118",
   "metadata": {},
   "outputs": [],
   "source": []
  },
  {
   "cell_type": "markdown",
   "id": "d656cabb",
   "metadata": {},
   "source": [
    "## Null/Outlier Treatment"
   ]
  },
  {
   "cell_type": "code",
   "execution_count": 149,
   "id": "78f99e57",
   "metadata": {},
   "outputs": [
    {
     "data": {
      "text/plain": [
       "Index([], dtype='object')"
      ]
     },
     "execution_count": 149,
     "metadata": {},
     "output_type": "execute_result"
    }
   ],
   "source": [
    "data.columns[data.isnull().any()]"
   ]
  },
  {
   "cell_type": "code",
   "execution_count": 150,
   "id": "310ffd1f",
   "metadata": {},
   "outputs": [],
   "source": [
    "#no columns have null values"
   ]
  },
  {
   "cell_type": "code",
   "execution_count": 151,
   "id": "01e8b372",
   "metadata": {},
   "outputs": [
    {
     "data": {
      "text/plain": [
       "Index([], dtype='object')"
      ]
     },
     "execution_count": 151,
     "metadata": {},
     "output_type": "execute_result"
    }
   ],
   "source": [
    "data.columns[data.isna().any()]"
   ]
  },
  {
   "cell_type": "code",
   "execution_count": 152,
   "id": "a802b63f",
   "metadata": {},
   "outputs": [],
   "source": [
    "#outlier detection\n",
    "data1=data.drop(['Activity'],axis=1)"
   ]
  },
  {
   "cell_type": "code",
   "execution_count": 153,
   "id": "812032b7",
   "metadata": {},
   "outputs": [],
   "source": [
    "def remove_outliers(data,n_std):\n",
    "    for col in data.columns:\n",
    "        \n",
    "        \n",
    "        mean = data[col].mean()\n",
    "        sd = data[col].std()\n",
    "        \n",
    "        data = data[(data[col] <= mean+(n_std*sd))]\n",
    "        \n",
    "    return data"
   ]
  },
  {
   "cell_type": "code",
   "execution_count": 154,
   "id": "61bd7741",
   "metadata": {},
   "outputs": [],
   "source": [
    "Y=data['Activity']#target data"
   ]
  },
  {
   "cell_type": "code",
   "execution_count": 155,
   "id": "3fc8abcf",
   "metadata": {},
   "outputs": [],
   "source": [
    "Y.replace(['LAYING', 'STANDING','SITTING','WALKING','WALKING_UPSTAIRS','WALKING_DOWNSTAIRS'],\n",
    "                        [1,2,3,4,5,6], inplace=True)"
   ]
  },
  {
   "cell_type": "code",
   "execution_count": 156,
   "id": "ce4d70d9",
   "metadata": {},
   "outputs": [],
   "source": [
    "X=data1"
   ]
  },
  {
   "cell_type": "code",
   "execution_count": null,
   "id": "fdd23151",
   "metadata": {},
   "outputs": [],
   "source": []
  },
  {
   "cell_type": "code",
   "execution_count": 157,
   "id": "0a97f51f",
   "metadata": {},
   "outputs": [
    {
     "data": {
      "text/html": [
       "<div>\n",
       "<style scoped>\n",
       "    .dataframe tbody tr th:only-of-type {\n",
       "        vertical-align: middle;\n",
       "    }\n",
       "\n",
       "    .dataframe tbody tr th {\n",
       "        vertical-align: top;\n",
       "    }\n",
       "\n",
       "    .dataframe thead th {\n",
       "        text-align: right;\n",
       "    }\n",
       "</style>\n",
       "<table border=\"1\" class=\"dataframe\">\n",
       "  <thead>\n",
       "    <tr style=\"text-align: right;\">\n",
       "      <th></th>\n",
       "      <th>tBodyAcc-mean()-X</th>\n",
       "      <th>tBodyAcc-mean()-Y</th>\n",
       "      <th>tBodyAcc-mean()-Z</th>\n",
       "      <th>tBodyAcc-std()-X</th>\n",
       "      <th>tBodyAcc-std()-Y</th>\n",
       "      <th>tBodyAcc-std()-Z</th>\n",
       "      <th>tBodyAcc-mad()-X</th>\n",
       "      <th>tBodyAcc-mad()-Y</th>\n",
       "      <th>tBodyAcc-mad()-Z</th>\n",
       "      <th>tBodyAcc-max()-X</th>\n",
       "      <th>...</th>\n",
       "      <th>fBodyBodyGyroJerkMag-meanFreq()</th>\n",
       "      <th>fBodyBodyGyroJerkMag-skewness()</th>\n",
       "      <th>fBodyBodyGyroJerkMag-kurtosis()</th>\n",
       "      <th>angle(tBodyAccMean,gravity)</th>\n",
       "      <th>angle(tBodyAccJerkMean),gravityMean)</th>\n",
       "      <th>angle(tBodyGyroMean,gravityMean)</th>\n",
       "      <th>angle(tBodyGyroJerkMean,gravityMean)</th>\n",
       "      <th>angle(X,gravityMean)</th>\n",
       "      <th>angle(Y,gravityMean)</th>\n",
       "      <th>angle(Z,gravityMean)</th>\n",
       "    </tr>\n",
       "  </thead>\n",
       "  <tbody>\n",
       "    <tr>\n",
       "      <th>12</th>\n",
       "      <td>0.278457</td>\n",
       "      <td>-0.020415</td>\n",
       "      <td>-0.112732</td>\n",
       "      <td>-0.999135</td>\n",
       "      <td>-0.984680</td>\n",
       "      <td>-0.996274</td>\n",
       "      <td>-0.999077</td>\n",
       "      <td>-0.982937</td>\n",
       "      <td>-0.996410</td>\n",
       "      <td>-0.943906</td>\n",
       "      <td>...</td>\n",
       "      <td>0.689897</td>\n",
       "      <td>-0.686389</td>\n",
       "      <td>-0.878751</td>\n",
       "      <td>-0.077552</td>\n",
       "      <td>-0.101222</td>\n",
       "      <td>0.639084</td>\n",
       "      <td>0.765485</td>\n",
       "      <td>-0.850654</td>\n",
       "      <td>0.187611</td>\n",
       "      <td>-0.035998</td>\n",
       "    </tr>\n",
       "    <tr>\n",
       "      <th>58</th>\n",
       "      <td>0.280206</td>\n",
       "      <td>-0.018396</td>\n",
       "      <td>-0.107489</td>\n",
       "      <td>-0.996475</td>\n",
       "      <td>-0.994069</td>\n",
       "      <td>-0.991861</td>\n",
       "      <td>-0.997295</td>\n",
       "      <td>-0.994338</td>\n",
       "      <td>-0.993440</td>\n",
       "      <td>-0.939453</td>\n",
       "      <td>...</td>\n",
       "      <td>0.257536</td>\n",
       "      <td>-0.600093</td>\n",
       "      <td>-0.835428</td>\n",
       "      <td>0.198436</td>\n",
       "      <td>0.241702</td>\n",
       "      <td>-0.011947</td>\n",
       "      <td>-0.096105</td>\n",
       "      <td>0.398778</td>\n",
       "      <td>-0.546250</td>\n",
       "      <td>-0.431668</td>\n",
       "    </tr>\n",
       "    <tr>\n",
       "      <th>197</th>\n",
       "      <td>0.279380</td>\n",
       "      <td>-0.015438</td>\n",
       "      <td>-0.111270</td>\n",
       "      <td>-0.997897</td>\n",
       "      <td>-0.991525</td>\n",
       "      <td>-0.999242</td>\n",
       "      <td>-0.998623</td>\n",
       "      <td>-0.990537</td>\n",
       "      <td>-0.999755</td>\n",
       "      <td>-0.938301</td>\n",
       "      <td>...</td>\n",
       "      <td>0.752284</td>\n",
       "      <td>-0.864949</td>\n",
       "      <td>-0.971802</td>\n",
       "      <td>-0.047897</td>\n",
       "      <td>-0.224785</td>\n",
       "      <td>0.571943</td>\n",
       "      <td>0.518544</td>\n",
       "      <td>-0.673896</td>\n",
       "      <td>0.321025</td>\n",
       "      <td>0.050939</td>\n",
       "    </tr>\n",
       "    <tr>\n",
       "      <th>212</th>\n",
       "      <td>0.275644</td>\n",
       "      <td>-0.015470</td>\n",
       "      <td>-0.108208</td>\n",
       "      <td>-0.996583</td>\n",
       "      <td>-0.990505</td>\n",
       "      <td>-0.996329</td>\n",
       "      <td>-0.996910</td>\n",
       "      <td>-0.989824</td>\n",
       "      <td>-0.996692</td>\n",
       "      <td>-0.941146</td>\n",
       "      <td>...</td>\n",
       "      <td>0.546399</td>\n",
       "      <td>-0.519389</td>\n",
       "      <td>-0.790149</td>\n",
       "      <td>0.042952</td>\n",
       "      <td>-0.742735</td>\n",
       "      <td>0.677059</td>\n",
       "      <td>0.365962</td>\n",
       "      <td>-0.510461</td>\n",
       "      <td>-0.137407</td>\n",
       "      <td>-0.228804</td>\n",
       "    </tr>\n",
       "    <tr>\n",
       "      <th>423</th>\n",
       "      <td>0.272700</td>\n",
       "      <td>-0.017680</td>\n",
       "      <td>-0.104415</td>\n",
       "      <td>-0.997297</td>\n",
       "      <td>-0.997299</td>\n",
       "      <td>-0.989441</td>\n",
       "      <td>-0.997287</td>\n",
       "      <td>-0.996685</td>\n",
       "      <td>-0.989417</td>\n",
       "      <td>-0.945965</td>\n",
       "      <td>...</td>\n",
       "      <td>0.442217</td>\n",
       "      <td>-0.772114</td>\n",
       "      <td>-0.953085</td>\n",
       "      <td>-0.069731</td>\n",
       "      <td>-0.625512</td>\n",
       "      <td>0.386439</td>\n",
       "      <td>-0.120913</td>\n",
       "      <td>0.453947</td>\n",
       "      <td>-0.659481</td>\n",
       "      <td>-0.324968</td>\n",
       "    </tr>\n",
       "    <tr>\n",
       "      <th>...</th>\n",
       "      <td>...</td>\n",
       "      <td>...</td>\n",
       "      <td>...</td>\n",
       "      <td>...</td>\n",
       "      <td>...</td>\n",
       "      <td>...</td>\n",
       "      <td>...</td>\n",
       "      <td>...</td>\n",
       "      <td>...</td>\n",
       "      <td>...</td>\n",
       "      <td>...</td>\n",
       "      <td>...</td>\n",
       "      <td>...</td>\n",
       "      <td>...</td>\n",
       "      <td>...</td>\n",
       "      <td>...</td>\n",
       "      <td>...</td>\n",
       "      <td>...</td>\n",
       "      <td>...</td>\n",
       "      <td>...</td>\n",
       "      <td>...</td>\n",
       "    </tr>\n",
       "    <tr>\n",
       "      <th>7063</th>\n",
       "      <td>0.281213</td>\n",
       "      <td>-0.017136</td>\n",
       "      <td>-0.110965</td>\n",
       "      <td>-0.996051</td>\n",
       "      <td>-0.998186</td>\n",
       "      <td>-0.994245</td>\n",
       "      <td>-0.996338</td>\n",
       "      <td>-0.998093</td>\n",
       "      <td>-0.993843</td>\n",
       "      <td>-0.938763</td>\n",
       "      <td>...</td>\n",
       "      <td>0.765237</td>\n",
       "      <td>-0.552435</td>\n",
       "      <td>-0.814160</td>\n",
       "      <td>0.257540</td>\n",
       "      <td>-0.231588</td>\n",
       "      <td>0.700022</td>\n",
       "      <td>-0.450498</td>\n",
       "      <td>0.414869</td>\n",
       "      <td>-0.486316</td>\n",
       "      <td>-0.499157</td>\n",
       "    </tr>\n",
       "    <tr>\n",
       "      <th>7206</th>\n",
       "      <td>0.287296</td>\n",
       "      <td>-0.017104</td>\n",
       "      <td>-0.112975</td>\n",
       "      <td>-0.996231</td>\n",
       "      <td>-0.991786</td>\n",
       "      <td>-0.994782</td>\n",
       "      <td>-0.996651</td>\n",
       "      <td>-0.993123</td>\n",
       "      <td>-0.995175</td>\n",
       "      <td>-0.935258</td>\n",
       "      <td>...</td>\n",
       "      <td>0.359677</td>\n",
       "      <td>-0.783606</td>\n",
       "      <td>-0.967293</td>\n",
       "      <td>-0.164325</td>\n",
       "      <td>0.350370</td>\n",
       "      <td>0.002610</td>\n",
       "      <td>-0.227435</td>\n",
       "      <td>-0.230502</td>\n",
       "      <td>-0.236863</td>\n",
       "      <td>-0.376976</td>\n",
       "    </tr>\n",
       "    <tr>\n",
       "      <th>7207</th>\n",
       "      <td>0.285267</td>\n",
       "      <td>-0.017716</td>\n",
       "      <td>-0.112932</td>\n",
       "      <td>-0.996210</td>\n",
       "      <td>-0.995929</td>\n",
       "      <td>-0.996503</td>\n",
       "      <td>-0.996469</td>\n",
       "      <td>-0.995990</td>\n",
       "      <td>-0.996394</td>\n",
       "      <td>-0.935258</td>\n",
       "      <td>...</td>\n",
       "      <td>0.395302</td>\n",
       "      <td>-0.537412</td>\n",
       "      <td>-0.776738</td>\n",
       "      <td>-0.059678</td>\n",
       "      <td>0.445701</td>\n",
       "      <td>-0.227115</td>\n",
       "      <td>0.327626</td>\n",
       "      <td>-0.233064</td>\n",
       "      <td>-0.236545</td>\n",
       "      <td>-0.375200</td>\n",
       "    </tr>\n",
       "    <tr>\n",
       "      <th>7208</th>\n",
       "      <td>0.280109</td>\n",
       "      <td>-0.017881</td>\n",
       "      <td>-0.111748</td>\n",
       "      <td>-0.998300</td>\n",
       "      <td>-0.996869</td>\n",
       "      <td>-0.996957</td>\n",
       "      <td>-0.998593</td>\n",
       "      <td>-0.996048</td>\n",
       "      <td>-0.996493</td>\n",
       "      <td>-0.941262</td>\n",
       "      <td>...</td>\n",
       "      <td>0.419435</td>\n",
       "      <td>-0.314716</td>\n",
       "      <td>-0.568381</td>\n",
       "      <td>0.194656</td>\n",
       "      <td>-0.197896</td>\n",
       "      <td>-0.281663</td>\n",
       "      <td>0.009871</td>\n",
       "      <td>-0.235617</td>\n",
       "      <td>-0.236165</td>\n",
       "      <td>-0.373487</td>\n",
       "    </tr>\n",
       "    <tr>\n",
       "      <th>7237</th>\n",
       "      <td>0.282648</td>\n",
       "      <td>-0.016034</td>\n",
       "      <td>-0.111275</td>\n",
       "      <td>-0.996790</td>\n",
       "      <td>-0.997950</td>\n",
       "      <td>-0.994608</td>\n",
       "      <td>-0.997313</td>\n",
       "      <td>-0.997072</td>\n",
       "      <td>-0.994579</td>\n",
       "      <td>-0.939634</td>\n",
       "      <td>...</td>\n",
       "      <td>0.513100</td>\n",
       "      <td>-0.465442</td>\n",
       "      <td>-0.713395</td>\n",
       "      <td>0.029134</td>\n",
       "      <td>-0.064864</td>\n",
       "      <td>0.201281</td>\n",
       "      <td>-0.056935</td>\n",
       "      <td>0.519842</td>\n",
       "      <td>-0.548369</td>\n",
       "      <td>-0.453015</td>\n",
       "    </tr>\n",
       "  </tbody>\n",
       "</table>\n",
       "<p>70 rows × 561 columns</p>\n",
       "</div>"
      ],
      "text/plain": [
       "      tBodyAcc-mean()-X  tBodyAcc-mean()-Y  tBodyAcc-mean()-Z  \\\n",
       "12             0.278457          -0.020415          -0.112732   \n",
       "58             0.280206          -0.018396          -0.107489   \n",
       "197            0.279380          -0.015438          -0.111270   \n",
       "212            0.275644          -0.015470          -0.108208   \n",
       "423            0.272700          -0.017680          -0.104415   \n",
       "...                 ...                ...                ...   \n",
       "7063           0.281213          -0.017136          -0.110965   \n",
       "7206           0.287296          -0.017104          -0.112975   \n",
       "7207           0.285267          -0.017716          -0.112932   \n",
       "7208           0.280109          -0.017881          -0.111748   \n",
       "7237           0.282648          -0.016034          -0.111275   \n",
       "\n",
       "      tBodyAcc-std()-X  tBodyAcc-std()-Y  tBodyAcc-std()-Z  tBodyAcc-mad()-X  \\\n",
       "12           -0.999135         -0.984680         -0.996274         -0.999077   \n",
       "58           -0.996475         -0.994069         -0.991861         -0.997295   \n",
       "197          -0.997897         -0.991525         -0.999242         -0.998623   \n",
       "212          -0.996583         -0.990505         -0.996329         -0.996910   \n",
       "423          -0.997297         -0.997299         -0.989441         -0.997287   \n",
       "...                ...               ...               ...               ...   \n",
       "7063         -0.996051         -0.998186         -0.994245         -0.996338   \n",
       "7206         -0.996231         -0.991786         -0.994782         -0.996651   \n",
       "7207         -0.996210         -0.995929         -0.996503         -0.996469   \n",
       "7208         -0.998300         -0.996869         -0.996957         -0.998593   \n",
       "7237         -0.996790         -0.997950         -0.994608         -0.997313   \n",
       "\n",
       "      tBodyAcc-mad()-Y  tBodyAcc-mad()-Z  tBodyAcc-max()-X  ...  \\\n",
       "12           -0.982937         -0.996410         -0.943906  ...   \n",
       "58           -0.994338         -0.993440         -0.939453  ...   \n",
       "197          -0.990537         -0.999755         -0.938301  ...   \n",
       "212          -0.989824         -0.996692         -0.941146  ...   \n",
       "423          -0.996685         -0.989417         -0.945965  ...   \n",
       "...                ...               ...               ...  ...   \n",
       "7063         -0.998093         -0.993843         -0.938763  ...   \n",
       "7206         -0.993123         -0.995175         -0.935258  ...   \n",
       "7207         -0.995990         -0.996394         -0.935258  ...   \n",
       "7208         -0.996048         -0.996493         -0.941262  ...   \n",
       "7237         -0.997072         -0.994579         -0.939634  ...   \n",
       "\n",
       "      fBodyBodyGyroJerkMag-meanFreq()  fBodyBodyGyroJerkMag-skewness()  \\\n",
       "12                           0.689897                        -0.686389   \n",
       "58                           0.257536                        -0.600093   \n",
       "197                          0.752284                        -0.864949   \n",
       "212                          0.546399                        -0.519389   \n",
       "423                          0.442217                        -0.772114   \n",
       "...                               ...                              ...   \n",
       "7063                         0.765237                        -0.552435   \n",
       "7206                         0.359677                        -0.783606   \n",
       "7207                         0.395302                        -0.537412   \n",
       "7208                         0.419435                        -0.314716   \n",
       "7237                         0.513100                        -0.465442   \n",
       "\n",
       "      fBodyBodyGyroJerkMag-kurtosis()  angle(tBodyAccMean,gravity)  \\\n",
       "12                          -0.878751                    -0.077552   \n",
       "58                          -0.835428                     0.198436   \n",
       "197                         -0.971802                    -0.047897   \n",
       "212                         -0.790149                     0.042952   \n",
       "423                         -0.953085                    -0.069731   \n",
       "...                               ...                          ...   \n",
       "7063                        -0.814160                     0.257540   \n",
       "7206                        -0.967293                    -0.164325   \n",
       "7207                        -0.776738                    -0.059678   \n",
       "7208                        -0.568381                     0.194656   \n",
       "7237                        -0.713395                     0.029134   \n",
       "\n",
       "      angle(tBodyAccJerkMean),gravityMean)  angle(tBodyGyroMean,gravityMean)  \\\n",
       "12                               -0.101222                          0.639084   \n",
       "58                                0.241702                         -0.011947   \n",
       "197                              -0.224785                          0.571943   \n",
       "212                              -0.742735                          0.677059   \n",
       "423                              -0.625512                          0.386439   \n",
       "...                                    ...                               ...   \n",
       "7063                             -0.231588                          0.700022   \n",
       "7206                              0.350370                          0.002610   \n",
       "7207                              0.445701                         -0.227115   \n",
       "7208                             -0.197896                         -0.281663   \n",
       "7237                             -0.064864                          0.201281   \n",
       "\n",
       "      angle(tBodyGyroJerkMean,gravityMean)  angle(X,gravityMean)  \\\n",
       "12                                0.765485             -0.850654   \n",
       "58                               -0.096105              0.398778   \n",
       "197                               0.518544             -0.673896   \n",
       "212                               0.365962             -0.510461   \n",
       "423                              -0.120913              0.453947   \n",
       "...                                    ...                   ...   \n",
       "7063                             -0.450498              0.414869   \n",
       "7206                             -0.227435             -0.230502   \n",
       "7207                              0.327626             -0.233064   \n",
       "7208                              0.009871             -0.235617   \n",
       "7237                             -0.056935              0.519842   \n",
       "\n",
       "      angle(Y,gravityMean)  angle(Z,gravityMean)  \n",
       "12                0.187611             -0.035998  \n",
       "58               -0.546250             -0.431668  \n",
       "197               0.321025              0.050939  \n",
       "212              -0.137407             -0.228804  \n",
       "423              -0.659481             -0.324968  \n",
       "...                    ...                   ...  \n",
       "7063             -0.486316             -0.499157  \n",
       "7206             -0.236863             -0.376976  \n",
       "7207             -0.236545             -0.375200  \n",
       "7208             -0.236165             -0.373487  \n",
       "7237             -0.548369             -0.453015  \n",
       "\n",
       "[70 rows x 561 columns]"
      ]
     },
     "execution_count": 157,
     "metadata": {},
     "output_type": "execute_result"
    }
   ],
   "source": [
    "remove_outliers(X,3)"
   ]
  },
  {
   "cell_type": "code",
   "execution_count": 158,
   "id": "9ae04723",
   "metadata": {},
   "outputs": [],
   "source": [
    "#data highly skewed so cannot remove rows"
   ]
  },
  {
   "cell_type": "code",
   "execution_count": null,
   "id": "f51c8c15",
   "metadata": {},
   "outputs": [],
   "source": []
  },
  {
   "cell_type": "code",
   "execution_count": null,
   "id": "71f6951d",
   "metadata": {},
   "outputs": [],
   "source": []
  },
  {
   "cell_type": "markdown",
   "id": "6fbd7ed4",
   "metadata": {},
   "source": [
    "## Remove non-Important Features"
   ]
  },
  {
   "cell_type": "code",
   "execution_count": 159,
   "id": "a42d24f4",
   "metadata": {},
   "outputs": [],
   "source": [
    "#used PCA to remove non important features"
   ]
  },
  {
   "cell_type": "code",
   "execution_count": 160,
   "id": "4c8b63b6",
   "metadata": {},
   "outputs": [],
   "source": [
    "from sklearn.decomposition import PCA"
   ]
  },
  {
   "cell_type": "code",
   "execution_count": 161,
   "id": "fc9bbc2f",
   "metadata": {},
   "outputs": [],
   "source": [
    "X_pca = PCA(n_components=2).fit_transform(X)"
   ]
  },
  {
   "cell_type": "code",
   "execution_count": null,
   "id": "ba36ce00",
   "metadata": {},
   "outputs": [],
   "source": []
  },
  {
   "cell_type": "code",
   "execution_count": null,
   "id": "00b4d256",
   "metadata": {},
   "outputs": [],
   "source": []
  },
  {
   "cell_type": "markdown",
   "id": "5d6bb07b",
   "metadata": {},
   "source": [
    "## Split Predictor and Target Varaibles"
   ]
  },
  {
   "cell_type": "code",
   "execution_count": 162,
   "id": "583f1548",
   "metadata": {},
   "outputs": [],
   "source": [
    "# X_pca has the predictor"
   ]
  },
  {
   "cell_type": "code",
   "execution_count": 163,
   "id": "ffb9b880",
   "metadata": {},
   "outputs": [],
   "source": [
    "#Y the target variables"
   ]
  },
  {
   "cell_type": "markdown",
   "id": "42429766",
   "metadata": {},
   "source": [
    "## Split Training and Testing Data Set"
   ]
  },
  {
   "cell_type": "code",
   "execution_count": 164,
   "id": "35eabe38",
   "metadata": {},
   "outputs": [],
   "source": [
    "x_train,x_test,y_train,y_test = train_test_split(X_pca,Y, test_size= 0.25, random_state = 355)"
   ]
  },
  {
   "cell_type": "code",
   "execution_count": null,
   "id": "979a50cc",
   "metadata": {},
   "outputs": [],
   "source": []
  },
  {
   "cell_type": "markdown",
   "id": "95e2e290",
   "metadata": {},
   "source": [
    "## Standardize the Variables"
   ]
  },
  {
   "cell_type": "code",
   "execution_count": 165,
   "id": "c3294cc5",
   "metadata": {},
   "outputs": [],
   "source": [
    "scalar=MinMaxScaler()\n",
    "x_train = scalar.fit_transform(x_train)"
   ]
  },
  {
   "cell_type": "code",
   "execution_count": null,
   "id": "05e0dc99",
   "metadata": {},
   "outputs": [],
   "source": []
  },
  {
   "cell_type": "code",
   "execution_count": 166,
   "id": "b1ac84a5",
   "metadata": {},
   "outputs": [],
   "source": [
    "x_test=scalar.fit_transform(x_test)"
   ]
  },
  {
   "cell_type": "markdown",
   "id": "c6bd7e08",
   "metadata": {},
   "source": [
    "# Train Model using different variations of NB [Marks:2+1]\n",
    "**Breifly describe & Justify why one of the variant performed better compared to others**"
   ]
  },
  {
   "cell_type": "code",
   "execution_count": 167,
   "id": "c54e4440",
   "metadata": {},
   "outputs": [],
   "source": [
    "from sklearn.naive_bayes import GaussianNB"
   ]
  },
  {
   "cell_type": "code",
   "execution_count": 168,
   "id": "a5938c7a",
   "metadata": {},
   "outputs": [],
   "source": [
    "from sklearn.naive_bayes import MultinomialNB"
   ]
  },
  {
   "cell_type": "code",
   "execution_count": 169,
   "id": "cc7f8cf0",
   "metadata": {},
   "outputs": [],
   "source": [
    "from sklearn.naive_bayes import BernoulliNB"
   ]
  },
  {
   "cell_type": "code",
   "execution_count": 170,
   "id": "a7101180",
   "metadata": {},
   "outputs": [],
   "source": [
    "#imported all types of NAive Bayes"
   ]
  },
  {
   "cell_type": "code",
   "execution_count": 171,
   "id": "0c143236",
   "metadata": {},
   "outputs": [],
   "source": [
    "model1=GaussianNB()"
   ]
  },
  {
   "cell_type": "code",
   "execution_count": 172,
   "id": "990a82cd",
   "metadata": {},
   "outputs": [],
   "source": [
    "model2=MultinomialNB()"
   ]
  },
  {
   "cell_type": "code",
   "execution_count": 173,
   "id": "3d6bad1c",
   "metadata": {},
   "outputs": [],
   "source": [
    "model3=BernoulliNB()"
   ]
  },
  {
   "cell_type": "code",
   "execution_count": 174,
   "id": "49187014",
   "metadata": {},
   "outputs": [
    {
     "data": {
      "text/plain": [
       "GaussianNB()"
      ]
     },
     "execution_count": 174,
     "metadata": {},
     "output_type": "execute_result"
    }
   ],
   "source": [
    "model1.fit(x_train,y_train)"
   ]
  },
  {
   "cell_type": "code",
   "execution_count": 175,
   "id": "e30307a6",
   "metadata": {},
   "outputs": [],
   "source": [
    "y_pred1 = model1.predict(x_test)"
   ]
  },
  {
   "cell_type": "code",
   "execution_count": 176,
   "id": "70670d3b",
   "metadata": {},
   "outputs": [
    {
     "name": "stdout",
     "output_type": "stream",
     "text": [
      "0.5027203482045702\n"
     ]
    }
   ],
   "source": [
    "print(accuracy_score(y_test, y_pred1))"
   ]
  },
  {
   "cell_type": "code",
   "execution_count": null,
   "id": "f9f4cf74",
   "metadata": {},
   "outputs": [],
   "source": []
  },
  {
   "cell_type": "code",
   "execution_count": null,
   "id": "00b7faf0",
   "metadata": {},
   "outputs": [],
   "source": []
  },
  {
   "cell_type": "code",
   "execution_count": 177,
   "id": "3df4b12f",
   "metadata": {},
   "outputs": [
    {
     "data": {
      "text/plain": [
       "MultinomialNB()"
      ]
     },
     "execution_count": 177,
     "metadata": {},
     "output_type": "execute_result"
    }
   ],
   "source": [
    "model2.fit(x_train,y_train)"
   ]
  },
  {
   "cell_type": "code",
   "execution_count": 178,
   "id": "1114ba9a",
   "metadata": {},
   "outputs": [],
   "source": [
    "y_pred2=model2.predict(x_test)"
   ]
  },
  {
   "cell_type": "code",
   "execution_count": 179,
   "id": "55dc8340",
   "metadata": {},
   "outputs": [
    {
     "name": "stdout",
     "output_type": "stream",
     "text": [
      "0.3661588683351469\n"
     ]
    }
   ],
   "source": [
    "print(accuracy_score(y_test, y_pred2))"
   ]
  },
  {
   "cell_type": "code",
   "execution_count": 180,
   "id": "320f8b87",
   "metadata": {},
   "outputs": [
    {
     "data": {
      "text/plain": [
       "BernoulliNB()"
      ]
     },
     "execution_count": 180,
     "metadata": {},
     "output_type": "execute_result"
    }
   ],
   "source": [
    "model3.fit(x_train,y_train)"
   ]
  },
  {
   "cell_type": "code",
   "execution_count": 181,
   "id": "9deafe1c",
   "metadata": {},
   "outputs": [],
   "source": [
    "y_pred3=model3.predict(x_test)"
   ]
  },
  {
   "cell_type": "code",
   "execution_count": 182,
   "id": "6975649f",
   "metadata": {},
   "outputs": [
    {
     "name": "stdout",
     "output_type": "stream",
     "text": [
      "0.19477693144722524\n"
     ]
    }
   ],
   "source": [
    "print(accuracy_score(y_test, y_pred3))"
   ]
  },
  {
   "cell_type": "code",
   "execution_count": 183,
   "id": "10296261",
   "metadata": {},
   "outputs": [],
   "source": [
    "#the Gaussian Naive Bayes performs the best in this case(has best accuracy) on test data as the predictor values have continuous data had it consist of discrete values other models could have performed better"
   ]
  },
  {
   "cell_type": "code",
   "execution_count": null,
   "id": "f208c3b2",
   "metadata": {},
   "outputs": [],
   "source": []
  },
  {
   "cell_type": "markdown",
   "id": "bb30ac66",
   "metadata": {},
   "source": [
    "# Compare time and accuracy of different NB algos [Marks:0.5]"
   ]
  },
  {
   "cell_type": "code",
   "execution_count": null,
   "id": "8b6b10af",
   "metadata": {},
   "outputs": [],
   "source": []
  },
  {
   "cell_type": "code",
   "execution_count": 184,
   "id": "51ecb874",
   "metadata": {},
   "outputs": [
    {
     "name": "stdout",
     "output_type": "stream",
     "text": [
      "Wall time: 4.05 ms\n"
     ]
    },
    {
     "data": {
      "text/plain": [
       "GaussianNB()"
      ]
     },
     "execution_count": 184,
     "metadata": {},
     "output_type": "execute_result"
    }
   ],
   "source": [
    "%time model1.fit(x_train,y_train)"
   ]
  },
  {
   "cell_type": "code",
   "execution_count": 185,
   "id": "23b29df8",
   "metadata": {},
   "outputs": [
    {
     "name": "stdout",
     "output_type": "stream",
     "text": [
      "Wall time: 1.33 ms\n"
     ]
    }
   ],
   "source": [
    "%time y_pred1 = model1.predict(x_test)"
   ]
  },
  {
   "cell_type": "code",
   "execution_count": 186,
   "id": "aa3708b5",
   "metadata": {},
   "outputs": [],
   "source": [
    "# time for GaussianNB highlighted shown above"
   ]
  },
  {
   "cell_type": "code",
   "execution_count": 187,
   "id": "f553506a",
   "metadata": {},
   "outputs": [
    {
     "name": "stdout",
     "output_type": "stream",
     "text": [
      "0.5027203482045702\n"
     ]
    }
   ],
   "source": [
    "print(accuracy_score(y_test, y_pred1))"
   ]
  },
  {
   "cell_type": "code",
   "execution_count": 188,
   "id": "7af29696",
   "metadata": {},
   "outputs": [],
   "source": [
    "#Gaussian NB accuracy_score shown above"
   ]
  },
  {
   "cell_type": "code",
   "execution_count": null,
   "id": "8e1536b4",
   "metadata": {},
   "outputs": [],
   "source": []
  },
  {
   "cell_type": "code",
   "execution_count": 189,
   "id": "dbc61e9f",
   "metadata": {},
   "outputs": [
    {
     "name": "stdout",
     "output_type": "stream",
     "text": [
      "Wall time: 2.88 ms\n"
     ]
    },
    {
     "data": {
      "text/plain": [
       "MultinomialNB()"
      ]
     },
     "execution_count": 189,
     "metadata": {},
     "output_type": "execute_result"
    }
   ],
   "source": [
    "%time model2.fit(x_train,y_train)"
   ]
  },
  {
   "cell_type": "code",
   "execution_count": 190,
   "id": "0143170a",
   "metadata": {},
   "outputs": [
    {
     "name": "stdout",
     "output_type": "stream",
     "text": [
      "Wall time: 1.01 ms\n"
     ]
    }
   ],
   "source": [
    "%time y_pred2 = model2.predict(x_test)"
   ]
  },
  {
   "cell_type": "code",
   "execution_count": 191,
   "id": "6909d91d",
   "metadata": {},
   "outputs": [],
   "source": [
    "# time for MultinomialNB highlighted shown above"
   ]
  },
  {
   "cell_type": "code",
   "execution_count": 192,
   "id": "5954cc77",
   "metadata": {},
   "outputs": [
    {
     "name": "stdout",
     "output_type": "stream",
     "text": [
      "0.3661588683351469\n"
     ]
    }
   ],
   "source": [
    "print(accuracy_score(y_test, y_pred2))"
   ]
  },
  {
   "cell_type": "code",
   "execution_count": 193,
   "id": "1e6c4859",
   "metadata": {},
   "outputs": [],
   "source": [
    "#Multinomial NB accuracy_score shown above"
   ]
  },
  {
   "cell_type": "code",
   "execution_count": null,
   "id": "bc176759",
   "metadata": {},
   "outputs": [],
   "source": []
  },
  {
   "cell_type": "code",
   "execution_count": 194,
   "id": "249b58ca",
   "metadata": {},
   "outputs": [
    {
     "name": "stdout",
     "output_type": "stream",
     "text": [
      "Wall time: 3.12 ms\n"
     ]
    },
    {
     "data": {
      "text/plain": [
       "BernoulliNB()"
      ]
     },
     "execution_count": 194,
     "metadata": {},
     "output_type": "execute_result"
    }
   ],
   "source": [
    "%time model3.fit(x_train,y_train)"
   ]
  },
  {
   "cell_type": "code",
   "execution_count": 195,
   "id": "3e5f51da",
   "metadata": {},
   "outputs": [
    {
     "name": "stdout",
     "output_type": "stream",
     "text": [
      "Wall time: 1.02 ms\n"
     ]
    }
   ],
   "source": [
    "%time y_pred3 = model3.predict(x_test)"
   ]
  },
  {
   "cell_type": "code",
   "execution_count": 196,
   "id": "dad10440",
   "metadata": {},
   "outputs": [],
   "source": [
    "# time for BernoulliNB highlighted shown above"
   ]
  },
  {
   "cell_type": "code",
   "execution_count": 197,
   "id": "5a479a17",
   "metadata": {},
   "outputs": [
    {
     "name": "stdout",
     "output_type": "stream",
     "text": [
      "0.19477693144722524\n"
     ]
    }
   ],
   "source": [
    "print(accuracy_score(y_test, y_pred3))"
   ]
  },
  {
   "cell_type": "code",
   "execution_count": 198,
   "id": "9912efa7",
   "metadata": {},
   "outputs": [],
   "source": [
    "#Bernoulli NB accuracy_score shown above"
   ]
  },
  {
   "cell_type": "code",
   "execution_count": null,
   "id": "aba4e591",
   "metadata": {},
   "outputs": [],
   "source": []
  },
  {
   "cell_type": "code",
   "execution_count": 199,
   "id": "78810da9",
   "metadata": {},
   "outputs": [],
   "source": [
    "#train time least for Gaussian NB highest for BernoulliNB \n",
    "#prediction time least for MultinomialNB highest for BernoulliNB"
   ]
  },
  {
   "cell_type": "code",
   "execution_count": 200,
   "id": "bc2efc36",
   "metadata": {},
   "outputs": [],
   "source": [
    "#accuracy_score least for Gaussian NB highest for BernoulliNB "
   ]
  },
  {
   "cell_type": "code",
   "execution_count": 201,
   "id": "e643b878",
   "metadata": {},
   "outputs": [],
   "source": [
    "#the Gaussian Naive Bayes performs the best in this case(has best accuracy) on test data as the predictor values have continuous data had it consist of discrete values other models could have performed better"
   ]
  },
  {
   "cell_type": "code",
   "execution_count": null,
   "id": "c24ffab6",
   "metadata": {},
   "outputs": [],
   "source": []
  },
  {
   "cell_type": "code",
   "execution_count": null,
   "id": "4172234c",
   "metadata": {},
   "outputs": [],
   "source": []
  },
  {
   "cell_type": "markdown",
   "id": "e89ad9dc",
   "metadata": {},
   "source": [
    "# Train Model with Logistic Regression with different solver and penalty [Marks:2+1]\n",
    "**Justify why one of the solver or penalty performed better compared to others**"
   ]
  },
  {
   "cell_type": "code",
   "execution_count": 202,
   "id": "a276d9d5",
   "metadata": {},
   "outputs": [
    {
     "data": {
      "text/plain": [
       "LogisticRegression()"
      ]
     },
     "execution_count": 202,
     "metadata": {},
     "output_type": "execute_result"
    }
   ],
   "source": [
    "log_reg = LogisticRegression()\n",
    "\n",
    "log_reg.fit(x_train,y_train)"
   ]
  },
  {
   "cell_type": "code",
   "execution_count": 203,
   "id": "4caa7198",
   "metadata": {},
   "outputs": [],
   "source": [
    "y_predl=log_reg.predict(x_test)"
   ]
  },
  {
   "cell_type": "code",
   "execution_count": 204,
   "id": "6b99d0da",
   "metadata": {},
   "outputs": [
    {
     "data": {
      "text/plain": [
       "0.5163220892274211"
      ]
     },
     "execution_count": 204,
     "metadata": {},
     "output_type": "execute_result"
    }
   ],
   "source": [
    "accuracy = accuracy_score(y_test,y_predl)\n",
    "accuracy"
   ]
  },
  {
   "cell_type": "code",
   "execution_count": 205,
   "id": "26674a7c",
   "metadata": {},
   "outputs": [],
   "source": [
    "from sklearn.model_selection import GridSearchCV"
   ]
  },
  {
   "cell_type": "code",
   "execution_count": null,
   "id": "a8deb144",
   "metadata": {},
   "outputs": [],
   "source": []
  },
  {
   "cell_type": "code",
   "execution_count": 206,
   "id": "262ad7e3",
   "metadata": {},
   "outputs": [
    {
     "name": "stderr",
     "output_type": "stream",
     "text": [
      "C:\\Users\\Kaustav Chatterji\\AppData\\Roaming\\Python\\Python39\\site-packages\\sklearn\\linear_model\\_logistic.py:1523: UserWarning: 'n_jobs' > 1 does not have any effect when 'solver' is set to 'liblinear'. Got 'n_jobs' = 8.\n",
      "  warnings.warn(\n",
      "C:\\Users\\Kaustav Chatterji\\AppData\\Roaming\\Python\\Python39\\site-packages\\sklearn\\linear_model\\_logistic.py:1523: UserWarning: 'n_jobs' > 1 does not have any effect when 'solver' is set to 'liblinear'. Got 'n_jobs' = 8.\n",
      "  warnings.warn(\n",
      "C:\\Users\\Kaustav Chatterji\\AppData\\Roaming\\Python\\Python39\\site-packages\\sklearn\\linear_model\\_logistic.py:1523: UserWarning: 'n_jobs' > 1 does not have any effect when 'solver' is set to 'liblinear'. Got 'n_jobs' = 8.\n",
      "  warnings.warn(\n",
      "C:\\Users\\Kaustav Chatterji\\AppData\\Roaming\\Python\\Python39\\site-packages\\sklearn\\linear_model\\_logistic.py:1523: UserWarning: 'n_jobs' > 1 does not have any effect when 'solver' is set to 'liblinear'. Got 'n_jobs' = 8.\n",
      "  warnings.warn(\n",
      "C:\\Users\\Kaustav Chatterji\\AppData\\Roaming\\Python\\Python39\\site-packages\\sklearn\\linear_model\\_logistic.py:1523: UserWarning: 'n_jobs' > 1 does not have any effect when 'solver' is set to 'liblinear'. Got 'n_jobs' = 8.\n",
      "  warnings.warn(\n"
     ]
    },
    {
     "name": "stdout",
     "output_type": "stream",
     "text": [
      "liblinear: 0.515\n",
      "newton-cg: 0.522\n",
      "lbfgs: 0.522\n",
      "sag: 0.522\n",
      "saga: 0.522\n"
     ]
    }
   ],
   "source": [
    "solver_list = ['liblinear', 'newton-cg', 'lbfgs', 'sag', 'saga']\n",
    "parameters = dict(solver=solver_list)\n",
    "lr = LogisticRegression(random_state=34, multi_class=\"auto\", n_jobs=-1, C=1)\n",
    "clf = GridSearchCV(lr, parameters, cv=5)\n",
    "clf.fit(x_train, y_train)\n",
    "scores = clf.cv_results_['mean_test_score']\n",
    "\n",
    "for score, solver, in zip(scores, solver_list):\n",
    "    print(f\"{solver}: {score:.3f}\")"
   ]
  },
  {
   "cell_type": "code",
   "execution_count": 207,
   "id": "d6baa1b3",
   "metadata": {},
   "outputs": [],
   "source": [
    "log_reg2 = LogisticRegression(penalty='elasticnet',solver='saga',l1_ratio=0.5)"
   ]
  },
  {
   "cell_type": "code",
   "execution_count": 208,
   "id": "829b7b82",
   "metadata": {},
   "outputs": [
    {
     "data": {
      "text/plain": [
       "LogisticRegression(l1_ratio=0.5, penalty='elasticnet', solver='saga')"
      ]
     },
     "execution_count": 208,
     "metadata": {},
     "output_type": "execute_result"
    }
   ],
   "source": [
    "log_reg2.fit(x_train,y_train)"
   ]
  },
  {
   "cell_type": "code",
   "execution_count": 209,
   "id": "b6ab2acf",
   "metadata": {},
   "outputs": [],
   "source": [
    "y_pred2=log_reg2.predict(x_test)"
   ]
  },
  {
   "cell_type": "code",
   "execution_count": 210,
   "id": "65f72016",
   "metadata": {},
   "outputs": [
    {
     "data": {
      "text/plain": [
       "0.5233949945593036"
      ]
     },
     "execution_count": 210,
     "metadata": {},
     "output_type": "execute_result"
    }
   ],
   "source": [
    "accuracy = accuracy_score(y_test,y_pred2)\n",
    "accuracy"
   ]
  },
  {
   "cell_type": "code",
   "execution_count": 211,
   "id": "bd754926",
   "metadata": {},
   "outputs": [],
   "source": [
    "# a bit increase in the accuracy"
   ]
  },
  {
   "cell_type": "code",
   "execution_count": 212,
   "id": "5f98a762",
   "metadata": {},
   "outputs": [],
   "source": [
    "log_reg3 = LogisticRegression(penalty='l2',solver='newton-cg')"
   ]
  },
  {
   "cell_type": "code",
   "execution_count": 213,
   "id": "4c1e8cda",
   "metadata": {},
   "outputs": [
    {
     "data": {
      "text/plain": [
       "LogisticRegression(solver='newton-cg')"
      ]
     },
     "execution_count": 213,
     "metadata": {},
     "output_type": "execute_result"
    }
   ],
   "source": [
    "log_reg3.fit(x_train,y_train)"
   ]
  },
  {
   "cell_type": "code",
   "execution_count": 214,
   "id": "d1009738",
   "metadata": {},
   "outputs": [],
   "source": [
    "y_pred3=log_reg3.predict(x_test)"
   ]
  },
  {
   "cell_type": "code",
   "execution_count": 215,
   "id": "c232d063",
   "metadata": {},
   "outputs": [
    {
     "data": {
      "text/plain": [
       "0.5163220892274211"
      ]
     },
     "execution_count": 215,
     "metadata": {},
     "output_type": "execute_result"
    }
   ],
   "source": [
    "accuracy = accuracy_score(y_test,y_pred3)\n",
    "accuracy"
   ]
  },
  {
   "cell_type": "code",
   "execution_count": 216,
   "id": "74997853",
   "metadata": {},
   "outputs": [],
   "source": [
    "#the model with elastic net penalty performs the best as it has both l1 and l2 penalty"
   ]
  },
  {
   "cell_type": "code",
   "execution_count": null,
   "id": "2768c27d",
   "metadata": {},
   "outputs": [],
   "source": []
  },
  {
   "cell_type": "code",
   "execution_count": null,
   "id": "57b97e96",
   "metadata": {},
   "outputs": [],
   "source": []
  },
  {
   "cell_type": "markdown",
   "id": "3d3c9589",
   "metadata": {},
   "source": [
    "# Compare time and accuracy of different Logistic Regression algos [Marks:0.5]"
   ]
  },
  {
   "cell_type": "code",
   "execution_count": 217,
   "id": "7a806305",
   "metadata": {},
   "outputs": [
    {
     "name": "stdout",
     "output_type": "stream",
     "text": [
      "Wall time: 155 ms\n"
     ]
    },
    {
     "data": {
      "text/plain": [
       "LogisticRegression()"
      ]
     },
     "execution_count": 217,
     "metadata": {},
     "output_type": "execute_result"
    }
   ],
   "source": [
    "%time  log_reg.fit(x_train,y_train)"
   ]
  },
  {
   "cell_type": "code",
   "execution_count": 218,
   "id": "eba22dea",
   "metadata": {},
   "outputs": [
    {
     "name": "stdout",
     "output_type": "stream",
     "text": [
      "Wall time: 962 µs\n"
     ]
    }
   ],
   "source": [
    "%time y_predl=log_reg.predict(x_test)"
   ]
  },
  {
   "cell_type": "code",
   "execution_count": 219,
   "id": "2cdc14a7",
   "metadata": {},
   "outputs": [],
   "source": [
    "# Time for default logistic regression"
   ]
  },
  {
   "cell_type": "code",
   "execution_count": 220,
   "id": "768bd99f",
   "metadata": {},
   "outputs": [
    {
     "data": {
      "text/plain": [
       "0.5163220892274211"
      ]
     },
     "execution_count": 220,
     "metadata": {},
     "output_type": "execute_result"
    }
   ],
   "source": [
    "accuracy = accuracy_score(y_test,y_predl)\n",
    "accuracy"
   ]
  },
  {
   "cell_type": "code",
   "execution_count": 221,
   "id": "eb35ec0e",
   "metadata": {},
   "outputs": [],
   "source": [
    "# accuracy for default logistic regression"
   ]
  },
  {
   "cell_type": "code",
   "execution_count": 222,
   "id": "92fff678",
   "metadata": {},
   "outputs": [
    {
     "name": "stdout",
     "output_type": "stream",
     "text": [
      "Wall time: 30.8 ms\n"
     ]
    },
    {
     "data": {
      "text/plain": [
       "LogisticRegression(l1_ratio=0.5, penalty='elasticnet', solver='saga')"
      ]
     },
     "execution_count": 222,
     "metadata": {},
     "output_type": "execute_result"
    }
   ],
   "source": [
    "%time log_reg2.fit(x_train,y_train)"
   ]
  },
  {
   "cell_type": "code",
   "execution_count": 223,
   "id": "60d3a252",
   "metadata": {},
   "outputs": [
    {
     "name": "stdout",
     "output_type": "stream",
     "text": [
      "Wall time: 1.49 ms\n"
     ]
    }
   ],
   "source": [
    "%time y_pred2=log_reg2.predict(x_test)"
   ]
  },
  {
   "cell_type": "code",
   "execution_count": 224,
   "id": "876ecc02",
   "metadata": {},
   "outputs": [],
   "source": [
    "# Time for predicting  logistic regression with penalty elasticnet and solver saga"
   ]
  },
  {
   "cell_type": "code",
   "execution_count": 225,
   "id": "1160eab7",
   "metadata": {},
   "outputs": [
    {
     "data": {
      "text/plain": [
       "0.5233949945593036"
      ]
     },
     "execution_count": 225,
     "metadata": {},
     "output_type": "execute_result"
    }
   ],
   "source": [
    "accuracy = accuracy_score(y_test,y_pred2)\n",
    "accuracy"
   ]
  },
  {
   "cell_type": "code",
   "execution_count": 226,
   "id": "846cea7d",
   "metadata": {},
   "outputs": [],
   "source": [
    "# accuracy for predicting  logistic regression with penalty elasticnet and solver saga"
   ]
  },
  {
   "cell_type": "code",
   "execution_count": 227,
   "id": "c23d2214",
   "metadata": {},
   "outputs": [
    {
     "name": "stdout",
     "output_type": "stream",
     "text": [
      "Wall time: 90.3 ms\n"
     ]
    },
    {
     "data": {
      "text/plain": [
       "LogisticRegression(solver='newton-cg')"
      ]
     },
     "execution_count": 227,
     "metadata": {},
     "output_type": "execute_result"
    }
   ],
   "source": [
    "%time log_reg3.fit(x_train,y_train)"
   ]
  },
  {
   "cell_type": "code",
   "execution_count": 228,
   "id": "de754941",
   "metadata": {},
   "outputs": [
    {
     "name": "stdout",
     "output_type": "stream",
     "text": [
      "Wall time: 937 µs\n"
     ]
    }
   ],
   "source": [
    "%time y_pred3=log_reg3.predict(x_test)"
   ]
  },
  {
   "cell_type": "code",
   "execution_count": 229,
   "id": "0d21fad3",
   "metadata": {},
   "outputs": [],
   "source": [
    "# Time for predicting using  logistic regression with newton-cg and l2 penalty"
   ]
  },
  {
   "cell_type": "code",
   "execution_count": 230,
   "id": "2ed12987",
   "metadata": {},
   "outputs": [
    {
     "data": {
      "text/plain": [
       "0.5163220892274211"
      ]
     },
     "execution_count": 230,
     "metadata": {},
     "output_type": "execute_result"
    }
   ],
   "source": [
    "accuracy = accuracy_score(y_test,y_pred3)\n",
    "accuracy"
   ]
  },
  {
   "cell_type": "code",
   "execution_count": 231,
   "id": "a389d29e",
   "metadata": {},
   "outputs": [],
   "source": [
    "#the accuracy for the model predicting using  logistic regression with newton-cg and l2 penalty"
   ]
  },
  {
   "cell_type": "code",
   "execution_count": 232,
   "id": "2e6ffee3",
   "metadata": {},
   "outputs": [],
   "source": [
    "# accuracy for predicting  logistic regression with penalty elasticnet and solver saga is highest"
   ]
  },
  {
   "cell_type": "code",
   "execution_count": 233,
   "id": "119c4d45",
   "metadata": {},
   "outputs": [],
   "source": [
    "#prediction time and fitting time is also minimum for logistic regression with penalty elasticnet and solver saga is highest"
   ]
  },
  {
   "cell_type": "markdown",
   "id": "8f36cb10",
   "metadata": {},
   "source": [
    "# Plot confusion Matrix for the final model selected [Marks:1]"
   ]
  },
  {
   "cell_type": "code",
   "execution_count": 234,
   "id": "c372cc7b",
   "metadata": {},
   "outputs": [],
   "source": [
    "# the final model chosen is the model formed by using logistic regression with penalty elasticnet and solver saga"
   ]
  },
  {
   "cell_type": "code",
   "execution_count": 235,
   "id": "7c683b06",
   "metadata": {},
   "outputs": [],
   "source": [
    "from sklearn.metrics import confusion_matrix"
   ]
  },
  {
   "cell_type": "code",
   "execution_count": 236,
   "id": "590a95f1",
   "metadata": {},
   "outputs": [
    {
     "data": {
      "text/plain": [
       "LogisticRegression(l1_ratio=0.5, penalty='elasticnet', solver='saga')"
      ]
     },
     "execution_count": 236,
     "metadata": {},
     "output_type": "execute_result"
    }
   ],
   "source": [
    " log_reg2.fit(x_train,y_train)"
   ]
  },
  {
   "cell_type": "code",
   "execution_count": 237,
   "id": "20863846",
   "metadata": {},
   "outputs": [],
   "source": [
    "y_pred2=log_reg2.predict(x_test)"
   ]
  },
  {
   "cell_type": "code",
   "execution_count": 238,
   "id": "56b13413",
   "metadata": {},
   "outputs": [
    {
     "data": {
      "image/png": "[encoded data removed]",
      "text/plain": [
       "<Figure size 2160x1728 with 2 Axes>"
      ]
     },
     "metadata": {
      "needs_background": "light"
     },
     "output_type": "display_data"
    }
   ],
   "source": [
    "plt.figure(figsize=(30,24))\n",
    "fx=sns.heatmap(confusion_matrix(y_test,y_pred2), annot=True, fmt=\".2f\",cmap=\"GnBu\")\n",
    "fx.set_title('Confusion Matrix \\n');\n",
    "fx.set_xlabel('\\n Predicted Values\\n')\n",
    "fx.set_ylabel('Actual Values\\n')\n",
    "fx.xaxis.set_ticklabels(['LAYING', 'STANDING','SITTING','WALKING','WALKING_UPSTAIRS','WALKING_DOWNSTAIRS'])\n",
    "fx.yaxis.set_ticklabels(['LAYING', 'STANDING','SITTING','WALKING','WALKING_UPSTAIRS','WALKING_DOWNSTAIRS'])\n",
    "plt.show()"
   ]
  },
  {
   "cell_type": "code",
   "execution_count": 239,
   "id": "5eabbb9a",
   "metadata": {},
   "outputs": [
    {
     "data": {
      "text/plain": [
       "0.5233949945593036"
      ]
     },
     "execution_count": 239,
     "metadata": {},
     "output_type": "execute_result"
    }
   ],
   "source": [
    "accuracy = accuracy_score(y_test,y_pred2)\n",
    "accuracy"
   ]
  },
  {
   "cell_type": "code",
   "execution_count": 240,
   "id": "9184b59e",
   "metadata": {},
   "outputs": [
    {
     "data": {
      "text/plain": [
       "array([[282,  71,   1,   1,   3,   0],\n",
       "       [249, 111,   0,   2,   0,   0],\n",
       "       [234,  70,   0,   0,   3,   0],\n",
       "       [  0,   0,   0, 227,   7,  64],\n",
       "       [  0,   0,   0,  54, 158,  52],\n",
       "       [  0,   0,   0,  47,  18, 184]], dtype=int64)"
      ]
     },
     "execution_count": 240,
     "metadata": {},
     "output_type": "execute_result"
    }
   ],
   "source": [
    "conf_mat = confusion_matrix(y_test,y_pred2)\n",
    "conf_mat"
   ]
  },
  {
   "cell_type": "code",
   "execution_count": 241,
   "id": "eebd024a",
   "metadata": {},
   "outputs": [],
   "source": [
    "recall = np.diag(conf_mat) / np.sum(conf_mat, axis = 1)\n",
    "precision = np.diag(conf_mat) / np.sum(conf_mat, axis = 0)"
   ]
  },
  {
   "cell_type": "code",
   "execution_count": 242,
   "id": "83e68ae7",
   "metadata": {},
   "outputs": [
    {
     "data": {
      "text/plain": [
       "0.5322541616136369"
      ]
     },
     "execution_count": 242,
     "metadata": {},
     "output_type": "execute_result"
    }
   ],
   "source": [
    "Recall=np.mean(recall)\n",
    "Recall"
   ]
  },
  {
   "cell_type": "code",
   "execution_count": 243,
   "id": "2cba5f0d",
   "metadata": {},
   "outputs": [
    {
     "data": {
      "text/plain": [
       "0.49070273583305984"
      ]
     },
     "execution_count": 243,
     "metadata": {},
     "output_type": "execute_result"
    }
   ],
   "source": [
    "Precision=np.mean(precision)\n",
    "Precision"
   ]
  },
  {
   "cell_type": "code",
   "execution_count": 244,
   "id": "ec27f3ac",
   "metadata": {},
   "outputs": [
    {
     "data": {
      "text/plain": [
       "0.5106345612688974"
      ]
     },
     "execution_count": 244,
     "metadata": {},
     "output_type": "execute_result"
    }
   ],
   "source": [
    "F1_Score = 2*(Recall * Precision) / (Recall + Precision)\n",
    "F1_Score"
   ]
  },
  {
   "cell_type": "code",
   "execution_count": null,
   "id": "8a969c0d",
   "metadata": {},
   "outputs": [],
   "source": []
  },
  {
   "cell_type": "code",
   "execution_count": 245,
   "id": "76576b5f",
   "metadata": {},
   "outputs": [],
   "source": [
    "def multiclass_roc_auc_score(y_test, y_pred, average=\"macro\"):\n",
    " lb = LabelBinarizer()\n",
    " lb.fit(y_test)\n",
    " y_test = lb.transform(y_test)\n",
    " y_pred = lb.transform(y_pred)\n",
    " return roc_auc_score(y_test, y_pred, average=average)"
   ]
  },
  {
   "cell_type": "code",
   "execution_count": 246,
   "id": "57f1825d",
   "metadata": {},
   "outputs": [
    {
     "data": {
      "text/plain": [
       "0.7175635495997305"
      ]
     },
     "execution_count": 246,
     "metadata": {},
     "output_type": "execute_result"
    }
   ],
   "source": [
    "from sklearn.preprocessing import LabelBinarizer\n",
    "auc=multiclass_roc_auc_score(y_test, y_pred2)\n",
    "auc\n",
    "#roc_auc_score"
   ]
  },
  {
   "cell_type": "code",
   "execution_count": 247,
   "id": "5ec28f1c",
   "metadata": {},
   "outputs": [
    {
     "data": {
      "image/png": "[encoded data removed]",
      "text/plain": [
       "<Figure size 432x288 with 1 Axes>"
      ]
     },
     "metadata": {
      "needs_background": "light"
     },
     "output_type": "display_data"
    }
   ],
   "source": [
    "plt.plot([0, 1], [0, 1], color='darkblue', linestyle='--',label='ROC curve (area = %0.2f)' % auc)\n",
    "plt.xlabel('False Positive Rate')\n",
    "plt.ylabel('True Positive Rate')\n",
    "plt.title('Receiver Operating Characteristic (ROC) Curve')\n",
    "plt.legend()\n",
    "plt.show()"
   ]
  },
  {
   "cell_type": "code",
   "execution_count": null,
   "id": "96291d9c",
   "metadata": {},
   "outputs": [],
   "source": []
  },
  {
   "cell_type": "code",
   "execution_count": null,
   "id": "03a05df8",
   "metadata": {},
   "outputs": [],
   "source": []
  },
  {
   "cell_type": "code",
   "execution_count": null,
   "id": "0dc76468",
   "metadata": {},
   "outputs": [],
   "source": []
  },
  {
   "cell_type": "code",
   "execution_count": null,
   "id": "d3f846a7",
   "metadata": {},
   "outputs": [],
   "source": []
  }
 ],
 "metadata": {
  "kernelspec": {
   "display_name": "Python 3 (ipykernel)",
   "language": "python",
   "name": "python3"
  },
  "language_info": {
   "codemirror_mode": {
    "name": "ipython",
    "version": 3
   },
   "file_extension": ".py",
   "mimetype": "text/x-python",
   "name": "python",
   "nbconvert_exporter": "python",
   "pygments_lexer": "ipython3",
   "version": "3.9.7"
  }
 },
 "nbformat": 4,
 "nbformat_minor": 5
}
