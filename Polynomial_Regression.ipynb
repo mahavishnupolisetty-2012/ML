{
  "nbformat": 4,
  "nbformat_minor": 0,
  "metadata": {
    "colab": {
      "provenance": []
    },
    "kernelspec": {
      "name": "python3",
      "display_name": "Python 3"
    },
    "language_info": {
      "name": "python"
    }
  },
  "cells": [
    {
      "cell_type": "code",
      "execution_count": 38,
      "metadata": {
        "id": "9ipSAz4k047S"
      },
      "outputs": [],
      "source": [
        "import numpy as np \n",
        "import pandas as pd \n",
        "import matplotlib as mpl\n",
        "import matplotlib.pyplot as plt\n",
        "\n",
        "#to show the graphs or plots within the notebook.\n",
        "%matplotlib inline   "
      ]
    },
    {
      "cell_type": "code",
      "source": [
        "X = 6*np.random.rand(200,1) -3  # creating a random data, -3 is for bias\n",
        "y = 0.8*X**2+0.8*X+2+np.random.randn(200,1)\n",
        "plt.plot(X,y,'b.')"
      ],
      "metadata": {
        "colab": {
          "base_uri": "https://localhost:8080/",
          "height": 282
        },
        "id": "JTI7_f8c5kHt",
        "outputId": "ed3b87b3-e6bc-480c-90dc-7c1e7c5ef16d"
      },
      "execution_count": 22,
      "outputs": [
        {
          "output_type": "execute_result",
          "data": {
            "text/plain": [
              "[<matplotlib.lines.Line2D at 0x7f05eb01a3d0>]"
            ]
          },
          "metadata": {},
          "execution_count": 22
        },
        {
          "output_type": "display_data",
          "data": {
            "text/plain": [
              "<Figure size 432x288 with 1 Axes>"
            ],
            "image/png": "[encoded data removed]"
          },
          "metadata": {
            "needs_background": "light"
          }
        }
      ]
    },
    {
      "cell_type": "code",
      "source": [
        "from sklearn.model_selection import train_test_split \n",
        "X_train,X_test,y_train,y_test = train_test_split(X,y,test_size=.3,random_state=42)"
      ],
      "metadata": {
        "id": "wSMV-YEp66Hw"
      },
      "execution_count": 23,
      "outputs": []
    },
    {
      "cell_type": "code",
      "source": [
        "from sklearn.linear_model import LinearRegression\n",
        "lin_reg = LinearRegression()\n",
        "lin_reg.fit(X_train,y_train)"
      ],
      "metadata": {
        "colab": {
          "base_uri": "https://localhost:8080/"
        },
        "id": "wTEtggAk7kW9",
        "outputId": "bd6ade03-3c1a-4063-f7c6-959f1d7cb0fa"
      },
      "execution_count": 24,
      "outputs": [
        {
          "output_type": "execute_result",
          "data": {
            "text/plain": [
              "LinearRegression()"
            ]
          },
          "metadata": {},
          "execution_count": 24
        }
      ]
    },
    {
      "cell_type": "code",
      "source": [
        "y1 = lin_reg.predict(X_train)"
      ],
      "metadata": {
        "id": "GEuCJAug7tfC"
      },
      "execution_count": 25,
      "outputs": []
    },
    {
      "cell_type": "code",
      "source": [
        "X = 6*np.random.rand(200,1) -3\n",
        "y = 0.8*X**2+0.8*X+2+np.random.randn(200,1)\n",
        "plt.plot(X,y,'b.')\n",
        "\n",
        "plt.plot(X_train,y1,color=\"r\") # which is underfitting"
      ],
      "metadata": {
        "colab": {
          "base_uri": "https://localhost:8080/",
          "height": 282
        },
        "id": "TElsDUMe71RV",
        "outputId": "d7656e46-dfd8-43ec-b8d7-2fe0cd8ee6fb"
      },
      "execution_count": 26,
      "outputs": [
        {
          "output_type": "execute_result",
          "data": {
            "text/plain": [
              "[<matplotlib.lines.Line2D at 0x7f05eaf8ca90>]"
            ]
          },
          "metadata": {},
          "execution_count": 26
        },
        {
          "output_type": "display_data",
          "data": {
            "text/plain": [
              "<Figure size 432x288 with 1 Axes>"
            ],
            "image/png": "[encoded data removed]"
          },
          "metadata": {
            "needs_background": "light"
          }
        }
      ]
    },
    {
      "cell_type": "code",
      "source": [
        "X1 = X**2 # creating a another variable for increasing the basis \n",
        "X = np.c_[X,X1] # adding the nwe variable as a column for intial data."
      ],
      "metadata": {
        "id": "mIWaGGho78ua"
      },
      "execution_count": 27,
      "outputs": []
    },
    {
      "cell_type": "code",
      "source": [
        "X.shape"
      ],
      "metadata": {
        "colab": {
          "base_uri": "https://localhost:8080/"
        },
        "id": "Fx-UlbuP8VTO",
        "outputId": "545ed8cd-76a5-455a-9992-7f3fbb942966"
      },
      "execution_count": 28,
      "outputs": [
        {
          "output_type": "execute_result",
          "data": {
            "text/plain": [
              "(200, 2)"
            ]
          },
          "metadata": {},
          "execution_count": 28
        }
      ]
    },
    {
      "cell_type": "code",
      "source": [
        "X_train.shape"
      ],
      "metadata": {
        "colab": {
          "base_uri": "https://localhost:8080/"
        },
        "id": "Y3rJoeGF-IPO",
        "outputId": "291d3fff-0558-4d23-9f59-3ab24f1c83c6"
      },
      "execution_count": 29,
      "outputs": [
        {
          "output_type": "execute_result",
          "data": {
            "text/plain": [
              "(140, 1)"
            ]
          },
          "metadata": {},
          "execution_count": 29
        }
      ]
    },
    {
      "cell_type": "code",
      "source": [
        "from sklearn.model_selection import train_test_split \n",
        "\n",
        "X1 = 6*np.random.rand(200,1) -3 # Ground truth\n",
        "X2 = X1**2 # we are generating this.\n",
        "X3 = X1**3 # from here we are increasing the basis.\n",
        "X4 = X1**4\n",
        "X5 = X1**5\n",
        "X6 = X1**18\n",
        "X = np.c_[X1,X2,X3,X4,X5,X6]\n",
        "y = 0.8*X1**2+0.8*X1+2+np.random.randn(200,1)\n",
        "\n",
        "X_train,X_test,y_train,y_test = train_test_split(X,y,test_size=.3,random_state=42)\n",
        "\n",
        "from sklearn.linear_model import LinearRegression\n",
        "lin_reg = LinearRegression()\n",
        "lin_reg.fit(X_train,y_train)\n",
        "\n",
        "y1 = lin_reg.predict(X_train)\n",
        "plt.plot(X1,y,'b.')\n",
        "plt.plot(X_train[:,0],y1,'r.')\n",
        "plt.show()"
      ],
      "metadata": {
        "colab": {
          "base_uri": "https://localhost:8080/",
          "height": 265
        },
        "id": "WJTRGvUD8vte",
        "outputId": "45e6a954-328b-4639-b59f-2de8c3c280eb"
      },
      "execution_count": 30,
      "outputs": [
        {
          "output_type": "display_data",
          "data": {
            "text/plain": [
              "<Figure size 432x288 with 1 Axes>"
            ],
            "image/png": "[encoded data removed]"
          },
          "metadata": {
            "needs_background": "light"
          }
        }
      ]
    },
    {
      "cell_type": "markdown",
      "source": [
        "Using the skilearn preprocessing features."
      ],
      "metadata": {
        "id": "8UCl4HNd-psV"
      }
    },
    {
      "cell_type": "code",
      "source": [
        "X1 = 6*np.random.rand(200,1) -3\n",
        "y = 0.8*X1**2+0.8*X1+2+np.random.randn(200,1)"
      ],
      "metadata": {
        "id": "DJwLqoB2BigO"
      },
      "execution_count": 31,
      "outputs": []
    },
    {
      "cell_type": "code",
      "source": [
        "from sklearn.model_selection import train_test_split \n",
        "from sklearn.preprocessing import PolynomialFeatures\n",
        "poly = PolynomialFeatures(20) # adding 20 other columns to the intial data.\n",
        "X = poly.fit_transform(X1)\n"
      ],
      "metadata": {
        "id": "JBMpdOmj9B-6"
      },
      "execution_count": 32,
      "outputs": []
    },
    {
      "cell_type": "code",
      "source": [
        "X.shape"
      ],
      "metadata": {
        "colab": {
          "base_uri": "https://localhost:8080/"
        },
        "id": "SK4tEGHnB42_",
        "outputId": "1feee09f-7003-468d-b292-cccf80856eab"
      },
      "execution_count": 33,
      "outputs": [
        {
          "output_type": "execute_result",
          "data": {
            "text/plain": [
              "(200, 21)"
            ]
          },
          "metadata": {},
          "execution_count": 33
        }
      ]
    },
    {
      "cell_type": "code",
      "source": [
        "X_train,X_test,y_train,y_test = train_test_split(X,y,test_size=.3,random_state=42)\n",
        "X_train.shape"
      ],
      "metadata": {
        "colab": {
          "base_uri": "https://localhost:8080/"
        },
        "id": "jKKlJqUwBRYi",
        "outputId": "aedf5da6-4f2b-4386-bb95-7e149c73aca3"
      },
      "execution_count": 34,
      "outputs": [
        {
          "output_type": "execute_result",
          "data": {
            "text/plain": [
              "(140, 21)"
            ]
          },
          "metadata": {},
          "execution_count": 34
        }
      ]
    },
    {
      "cell_type": "code",
      "source": [
        "\n",
        "from sklearn.linear_model import LinearRegression\n",
        "lin_reg = LinearRegression()\n",
        "lin_reg.fit(X_train,y_train)\n",
        "\n",
        "y1 = lin_reg.predict(X_train)\n",
        "plt.plot(X1,y,'b.')\n",
        "plt.plot(X_train[:,1],y1,'r.')\n",
        "plt.show() # which is over ftting."
      ],
      "metadata": {
        "colab": {
          "base_uri": "https://localhost:8080/",
          "height": 265
        },
        "id": "D2gBSMmfBphE",
        "outputId": "4937d0fe-1d51-44f8-e025-3f711750b0a7"
      },
      "execution_count": 35,
      "outputs": [
        {
          "output_type": "display_data",
          "data": {
            "text/plain": [
              "<Figure size 432x288 with 1 Axes>"
            ],
            "image/png": "[encoded data removed]"
          },
          "metadata": {
            "needs_background": "light"
          }
        }
      ]
    },
    {
      "cell_type": "code",
      "source": [],
      "metadata": {
        "id": "x_n89j7W_E_D"
      },
      "execution_count": null,
      "outputs": []
    }
  ]
}